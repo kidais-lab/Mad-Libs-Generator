{
  "nbformat": 4,
  "nbformat_minor": 0,
  "metadata": {
    "colab": {
      "provenance": [],
      "authorship_tag": "ABX9TyOfu54mPNIt8CfqFgdF75Zj",
      "include_colab_link": true
    },
    "kernelspec": {
      "name": "python3",
      "display_name": "Python 3"
    },
    "language_info": {
      "name": "python"
    }
  },
  "cells": [
    {
      "cell_type": "markdown",
      "metadata": {
        "id": "view-in-github",
        "colab_type": "text"
      },
      "source": [
        "<a href=\"https://colab.research.google.com/github/kidais-lab/Mad-Libs-Generator/blob/master/project2_kidais.ipynb\" target=\"_parent\"><img src=\"https://colab.research.google.com/assets/colab-badge.svg\" alt=\"Open In Colab\"/></a>"
      ]
    },
    {
      "cell_type": "markdown",
      "source": [
        "# **1. Gather data**"
      ],
      "metadata": {
        "id": "MdavREJl6OJf"
      }
    },
    {
      "cell_type": "markdown",
      "source": [
        "# 1.1 Problem Statement"
      ],
      "metadata": {
        "id": "TxPuB2xm6Yxo"
      }
    },
    {
      "cell_type": "markdown",
      "source": [
        "This project aims to explore the change in happiness scores and their contributing factors across countries from 2015 to 2016 using the World Happiness Report. By comparing the two datasets, we aim to understand which factors (e.g., GDP, Family, Health, Freedom, etc.) are most associated with changes in happiness scores and which regions saw notable shifts. This analysis could be useful for policymakers and researchers interested in social well-being metrics over time."
      ],
      "metadata": {
        "id": "dfItnl5m6fo4"
      }
    },
    {
      "cell_type": "markdown",
      "source": [
        "**1.2 Gather the  two datasets using two different data gathering methods`**"
      ],
      "metadata": {
        "id": "iokpPQBx6zU1"
      }
    },
    {
      "cell_type": "code",
      "source": [
        "import pandas as pd\n",
        "import numpy as np\n",
        "import matplotlib.pyplot as plt\n",
        "import seaborn as sns\n",
        "from sklearn.preprocessing import StandardScaler, OneHotEncoder\n",
        "from sklearn.compose import ColumnTransformer"
      ],
      "metadata": {
        "id": "ArNHDPDh3LpS"
      },
      "execution_count": 1,
      "outputs": []
    },
    {
      "cell_type": "code",
      "source": [
        "import kagglehub\n",
        "from kagglehub import KaggleDatasetAdapter"
      ],
      "metadata": {
        "id": "H0YfZKid3Vtr"
      },
      "execution_count": 2,
      "outputs": []
    },
    {
      "cell_type": "markdown",
      "source": [
        "**Dataset 1**\n",
        "*   Type: CSV File\n",
        "*   Method: Manual Download\n",
        "*   Description: The 2015 World Happiness Report dataset was manually downloaded from Kaggle\n"
      ],
      "metadata": {
        "id": "loIz7ThS7NQd"
      }
    },
    {
      "cell_type": "code",
      "source": [
        "df_2015 = pd.read_csv(\"2015.csv\")\n",
        "print(\"2015 Dataset loaded. Shape:\", df_2015.shape)\n",
        "df_2015.head()"
      ],
      "metadata": {
        "colab": {
          "base_uri": "https://localhost:8080/",
          "height": 328
        },
        "id": "ltgEqHUL3Y02",
        "outputId": "47bec9cd-0166-4a4b-9e06-c314edd00e24"
      },
      "execution_count": 3,
      "outputs": [
        {
          "output_type": "stream",
          "name": "stdout",
          "text": [
            "2015 Dataset loaded. Shape: (158, 12)\n"
          ]
        },
        {
          "output_type": "execute_result",
          "data": {
            "text/plain": [
              "       Country          Region  Happiness Rank  Happiness Score  \\\n",
              "0  Switzerland  Western Europe               1            7.587   \n",
              "1      Iceland  Western Europe               2            7.561   \n",
              "2      Denmark  Western Europe               3            7.527   \n",
              "3       Norway  Western Europe               4            7.522   \n",
              "4       Canada   North America               5            7.427   \n",
              "\n",
              "   Standard Error  Economy (GDP per Capita)   Family  \\\n",
              "0         0.03411                   1.39651  1.34951   \n",
              "1         0.04884                   1.30232  1.40223   \n",
              "2         0.03328                   1.32548  1.36058   \n",
              "3         0.03880                   1.45900  1.33095   \n",
              "4         0.03553                   1.32629  1.32261   \n",
              "\n",
              "   Health (Life Expectancy)  Freedom  Trust (Government Corruption)  \\\n",
              "0                   0.94143  0.66557                        0.41978   \n",
              "1                   0.94784  0.62877                        0.14145   \n",
              "2                   0.87464  0.64938                        0.48357   \n",
              "3                   0.88521  0.66973                        0.36503   \n",
              "4                   0.90563  0.63297                        0.32957   \n",
              "\n",
              "   Generosity  Dystopia Residual  \n",
              "0     0.29678            2.51738  \n",
              "1     0.43630            2.70201  \n",
              "2     0.34139            2.49204  \n",
              "3     0.34699            2.46531  \n",
              "4     0.45811            2.45176  "
            ],
            "text/html": [
              "\n",
              "  <div id=\"df-188460fe-7b78-4135-b32b-bcb6c28fe0e7\" class=\"colab-df-container\">\n",
              "    <div>\n",
              "<style scoped>\n",
              "    .dataframe tbody tr th:only-of-type {\n",
              "        vertical-align: middle;\n",
              "    }\n",
              "\n",
              "    .dataframe tbody tr th {\n",
              "        vertical-align: top;\n",
              "    }\n",
              "\n",
              "    .dataframe thead th {\n",
              "        text-align: right;\n",
              "    }\n",
              "</style>\n",
              "<table border=\"1\" class=\"dataframe\">\n",
              "  <thead>\n",
              "    <tr style=\"text-align: right;\">\n",
              "      <th></th>\n",
              "      <th>Country</th>\n",
              "      <th>Region</th>\n",
              "      <th>Happiness Rank</th>\n",
              "      <th>Happiness Score</th>\n",
              "      <th>Standard Error</th>\n",
              "      <th>Economy (GDP per Capita)</th>\n",
              "      <th>Family</th>\n",
              "      <th>Health (Life Expectancy)</th>\n",
              "      <th>Freedom</th>\n",
              "      <th>Trust (Government Corruption)</th>\n",
              "      <th>Generosity</th>\n",
              "      <th>Dystopia Residual</th>\n",
              "    </tr>\n",
              "  </thead>\n",
              "  <tbody>\n",
              "    <tr>\n",
              "      <th>0</th>\n",
              "      <td>Switzerland</td>\n",
              "      <td>Western Europe</td>\n",
              "      <td>1</td>\n",
              "      <td>7.587</td>\n",
              "      <td>0.03411</td>\n",
              "      <td>1.39651</td>\n",
              "      <td>1.34951</td>\n",
              "      <td>0.94143</td>\n",
              "      <td>0.66557</td>\n",
              "      <td>0.41978</td>\n",
              "      <td>0.29678</td>\n",
              "      <td>2.51738</td>\n",
              "    </tr>\n",
              "    <tr>\n",
              "      <th>1</th>\n",
              "      <td>Iceland</td>\n",
              "      <td>Western Europe</td>\n",
              "      <td>2</td>\n",
              "      <td>7.561</td>\n",
              "      <td>0.04884</td>\n",
              "      <td>1.30232</td>\n",
              "      <td>1.40223</td>\n",
              "      <td>0.94784</td>\n",
              "      <td>0.62877</td>\n",
              "      <td>0.14145</td>\n",
              "      <td>0.43630</td>\n",
              "      <td>2.70201</td>\n",
              "    </tr>\n",
              "    <tr>\n",
              "      <th>2</th>\n",
              "      <td>Denmark</td>\n",
              "      <td>Western Europe</td>\n",
              "      <td>3</td>\n",
              "      <td>7.527</td>\n",
              "      <td>0.03328</td>\n",
              "      <td>1.32548</td>\n",
              "      <td>1.36058</td>\n",
              "      <td>0.87464</td>\n",
              "      <td>0.64938</td>\n",
              "      <td>0.48357</td>\n",
              "      <td>0.34139</td>\n",
              "      <td>2.49204</td>\n",
              "    </tr>\n",
              "    <tr>\n",
              "      <th>3</th>\n",
              "      <td>Norway</td>\n",
              "      <td>Western Europe</td>\n",
              "      <td>4</td>\n",
              "      <td>7.522</td>\n",
              "      <td>0.03880</td>\n",
              "      <td>1.45900</td>\n",
              "      <td>1.33095</td>\n",
              "      <td>0.88521</td>\n",
              "      <td>0.66973</td>\n",
              "      <td>0.36503</td>\n",
              "      <td>0.34699</td>\n",
              "      <td>2.46531</td>\n",
              "    </tr>\n",
              "    <tr>\n",
              "      <th>4</th>\n",
              "      <td>Canada</td>\n",
              "      <td>North America</td>\n",
              "      <td>5</td>\n",
              "      <td>7.427</td>\n",
              "      <td>0.03553</td>\n",
              "      <td>1.32629</td>\n",
              "      <td>1.32261</td>\n",
              "      <td>0.90563</td>\n",
              "      <td>0.63297</td>\n",
              "      <td>0.32957</td>\n",
              "      <td>0.45811</td>\n",
              "      <td>2.45176</td>\n",
              "    </tr>\n",
              "  </tbody>\n",
              "</table>\n",
              "</div>\n",
              "    <div class=\"colab-df-buttons\">\n",
              "\n",
              "  <div class=\"colab-df-container\">\n",
              "    <button class=\"colab-df-convert\" onclick=\"convertToInteractive('df-188460fe-7b78-4135-b32b-bcb6c28fe0e7')\"\n",
              "            title=\"Convert this dataframe to an interactive table.\"\n",
              "            style=\"display:none;\">\n",
              "\n",
              "  <svg xmlns=\"http://www.w3.org/2000/svg\" height=\"24px\" viewBox=\"0 -960 960 960\">\n",
              "    <path d=\"M120-120v-720h720v720H120Zm60-500h600v-160H180v160Zm220 220h160v-160H400v160Zm0 220h160v-160H400v160ZM180-400h160v-160H180v160Zm440 0h160v-160H620v160ZM180-180h160v-160H180v160Zm440 0h160v-160H620v160Z\"/>\n",
              "  </svg>\n",
              "    </button>\n",
              "\n",
              "  <style>\n",
              "    .colab-df-container {\n",
              "      display:flex;\n",
              "      gap: 12px;\n",
              "    }\n",
              "\n",
              "    .colab-df-convert {\n",
              "      background-color: #E8F0FE;\n",
              "      border: none;\n",
              "      border-radius: 50%;\n",
              "      cursor: pointer;\n",
              "      display: none;\n",
              "      fill: #1967D2;\n",
              "      height: 32px;\n",
              "      padding: 0 0 0 0;\n",
              "      width: 32px;\n",
              "    }\n",
              "\n",
              "    .colab-df-convert:hover {\n",
              "      background-color: #E2EBFA;\n",
              "      box-shadow: 0px 1px 2px rgba(60, 64, 67, 0.3), 0px 1px 3px 1px rgba(60, 64, 67, 0.15);\n",
              "      fill: #174EA6;\n",
              "    }\n",
              "\n",
              "    .colab-df-buttons div {\n",
              "      margin-bottom: 4px;\n",
              "    }\n",
              "\n",
              "    [theme=dark] .colab-df-convert {\n",
              "      background-color: #3B4455;\n",
              "      fill: #D2E3FC;\n",
              "    }\n",
              "\n",
              "    [theme=dark] .colab-df-convert:hover {\n",
              "      background-color: #434B5C;\n",
              "      box-shadow: 0px 1px 3px 1px rgba(0, 0, 0, 0.15);\n",
              "      filter: drop-shadow(0px 1px 2px rgba(0, 0, 0, 0.3));\n",
              "      fill: #FFFFFF;\n",
              "    }\n",
              "  </style>\n",
              "\n",
              "    <script>\n",
              "      const buttonEl =\n",
              "        document.querySelector('#df-188460fe-7b78-4135-b32b-bcb6c28fe0e7 button.colab-df-convert');\n",
              "      buttonEl.style.display =\n",
              "        google.colab.kernel.accessAllowed ? 'block' : 'none';\n",
              "\n",
              "      async function convertToInteractive(key) {\n",
              "        const element = document.querySelector('#df-188460fe-7b78-4135-b32b-bcb6c28fe0e7');\n",
              "        const dataTable =\n",
              "          await google.colab.kernel.invokeFunction('convertToInteractive',\n",
              "                                                    [key], {});\n",
              "        if (!dataTable) return;\n",
              "\n",
              "        const docLinkHtml = 'Like what you see? Visit the ' +\n",
              "          '<a target=\"_blank\" href=https://colab.research.google.com/notebooks/data_table.ipynb>data table notebook</a>'\n",
              "          + ' to learn more about interactive tables.';\n",
              "        element.innerHTML = '';\n",
              "        dataTable['output_type'] = 'display_data';\n",
              "        await google.colab.output.renderOutput(dataTable, element);\n",
              "        const docLink = document.createElement('div');\n",
              "        docLink.innerHTML = docLinkHtml;\n",
              "        element.appendChild(docLink);\n",
              "      }\n",
              "    </script>\n",
              "  </div>\n",
              "\n",
              "\n",
              "<div id=\"df-215e2bd1-6d02-445a-ac4c-d4f1cebdd260\">\n",
              "  <button class=\"colab-df-quickchart\" onclick=\"quickchart('df-215e2bd1-6d02-445a-ac4c-d4f1cebdd260')\"\n",
              "            title=\"Suggest charts\"\n",
              "            style=\"display:none;\">\n",
              "\n",
              "<svg xmlns=\"http://www.w3.org/2000/svg\" height=\"24px\"viewBox=\"0 0 24 24\"\n",
              "     width=\"24px\">\n",
              "    <g>\n",
              "        <path d=\"M19 3H5c-1.1 0-2 .9-2 2v14c0 1.1.9 2 2 2h14c1.1 0 2-.9 2-2V5c0-1.1-.9-2-2-2zM9 17H7v-7h2v7zm4 0h-2V7h2v10zm4 0h-2v-4h2v4z\"/>\n",
              "    </g>\n",
              "</svg>\n",
              "  </button>\n",
              "\n",
              "<style>\n",
              "  .colab-df-quickchart {\n",
              "      --bg-color: #E8F0FE;\n",
              "      --fill-color: #1967D2;\n",
              "      --hover-bg-color: #E2EBFA;\n",
              "      --hover-fill-color: #174EA6;\n",
              "      --disabled-fill-color: #AAA;\n",
              "      --disabled-bg-color: #DDD;\n",
              "  }\n",
              "\n",
              "  [theme=dark] .colab-df-quickchart {\n",
              "      --bg-color: #3B4455;\n",
              "      --fill-color: #D2E3FC;\n",
              "      --hover-bg-color: #434B5C;\n",
              "      --hover-fill-color: #FFFFFF;\n",
              "      --disabled-bg-color: #3B4455;\n",
              "      --disabled-fill-color: #666;\n",
              "  }\n",
              "\n",
              "  .colab-df-quickchart {\n",
              "    background-color: var(--bg-color);\n",
              "    border: none;\n",
              "    border-radius: 50%;\n",
              "    cursor: pointer;\n",
              "    display: none;\n",
              "    fill: var(--fill-color);\n",
              "    height: 32px;\n",
              "    padding: 0;\n",
              "    width: 32px;\n",
              "  }\n",
              "\n",
              "  .colab-df-quickchart:hover {\n",
              "    background-color: var(--hover-bg-color);\n",
              "    box-shadow: 0 1px 2px rgba(60, 64, 67, 0.3), 0 1px 3px 1px rgba(60, 64, 67, 0.15);\n",
              "    fill: var(--button-hover-fill-color);\n",
              "  }\n",
              "\n",
              "  .colab-df-quickchart-complete:disabled,\n",
              "  .colab-df-quickchart-complete:disabled:hover {\n",
              "    background-color: var(--disabled-bg-color);\n",
              "    fill: var(--disabled-fill-color);\n",
              "    box-shadow: none;\n",
              "  }\n",
              "\n",
              "  .colab-df-spinner {\n",
              "    border: 2px solid var(--fill-color);\n",
              "    border-color: transparent;\n",
              "    border-bottom-color: var(--fill-color);\n",
              "    animation:\n",
              "      spin 1s steps(1) infinite;\n",
              "  }\n",
              "\n",
              "  @keyframes spin {\n",
              "    0% {\n",
              "      border-color: transparent;\n",
              "      border-bottom-color: var(--fill-color);\n",
              "      border-left-color: var(--fill-color);\n",
              "    }\n",
              "    20% {\n",
              "      border-color: transparent;\n",
              "      border-left-color: var(--fill-color);\n",
              "      border-top-color: var(--fill-color);\n",
              "    }\n",
              "    30% {\n",
              "      border-color: transparent;\n",
              "      border-left-color: var(--fill-color);\n",
              "      border-top-color: var(--fill-color);\n",
              "      border-right-color: var(--fill-color);\n",
              "    }\n",
              "    40% {\n",
              "      border-color: transparent;\n",
              "      border-right-color: var(--fill-color);\n",
              "      border-top-color: var(--fill-color);\n",
              "    }\n",
              "    60% {\n",
              "      border-color: transparent;\n",
              "      border-right-color: var(--fill-color);\n",
              "    }\n",
              "    80% {\n",
              "      border-color: transparent;\n",
              "      border-right-color: var(--fill-color);\n",
              "      border-bottom-color: var(--fill-color);\n",
              "    }\n",
              "    90% {\n",
              "      border-color: transparent;\n",
              "      border-bottom-color: var(--fill-color);\n",
              "    }\n",
              "  }\n",
              "</style>\n",
              "\n",
              "  <script>\n",
              "    async function quickchart(key) {\n",
              "      const quickchartButtonEl =\n",
              "        document.querySelector('#' + key + ' button');\n",
              "      quickchartButtonEl.disabled = true;  // To prevent multiple clicks.\n",
              "      quickchartButtonEl.classList.add('colab-df-spinner');\n",
              "      try {\n",
              "        const charts = await google.colab.kernel.invokeFunction(\n",
              "            'suggestCharts', [key], {});\n",
              "      } catch (error) {\n",
              "        console.error('Error during call to suggestCharts:', error);\n",
              "      }\n",
              "      quickchartButtonEl.classList.remove('colab-df-spinner');\n",
              "      quickchartButtonEl.classList.add('colab-df-quickchart-complete');\n",
              "    }\n",
              "    (() => {\n",
              "      let quickchartButtonEl =\n",
              "        document.querySelector('#df-215e2bd1-6d02-445a-ac4c-d4f1cebdd260 button');\n",
              "      quickchartButtonEl.style.display =\n",
              "        google.colab.kernel.accessAllowed ? 'block' : 'none';\n",
              "    })();\n",
              "  </script>\n",
              "</div>\n",
              "\n",
              "    </div>\n",
              "  </div>\n"
            ],
            "application/vnd.google.colaboratory.intrinsic+json": {
              "type": "dataframe",
              "variable_name": "df_2015",
              "summary": "{\n  \"name\": \"df_2015\",\n  \"rows\": 158,\n  \"fields\": [\n    {\n      \"column\": \"Country\",\n      \"properties\": {\n        \"dtype\": \"string\",\n        \"num_unique_values\": 158,\n        \"samples\": [\n          \"Myanmar\",\n          \"Japan\",\n          \"Egypt\"\n        ],\n        \"semantic_type\": \"\",\n        \"description\": \"\"\n      }\n    },\n    {\n      \"column\": \"Region\",\n      \"properties\": {\n        \"dtype\": \"category\",\n        \"num_unique_values\": 10,\n        \"samples\": [\n          \"Sub-Saharan Africa\",\n          \"North America\",\n          \"Southeastern Asia\"\n        ],\n        \"semantic_type\": \"\",\n        \"description\": \"\"\n      }\n    },\n    {\n      \"column\": \"Happiness Rank\",\n      \"properties\": {\n        \"dtype\": \"number\",\n        \"std\": 45,\n        \"min\": 1,\n        \"max\": 158,\n        \"num_unique_values\": 157,\n        \"samples\": [\n          128,\n          46,\n          135\n        ],\n        \"semantic_type\": \"\",\n        \"description\": \"\"\n      }\n    },\n    {\n      \"column\": \"Happiness Score\",\n      \"properties\": {\n        \"dtype\": \"number\",\n        \"std\": 1.1450101349520665,\n        \"min\": 2.839,\n        \"max\": 7.587,\n        \"num_unique_values\": 157,\n        \"samples\": [\n          4.332,\n          5.987,\n          4.194\n        ],\n        \"semantic_type\": \"\",\n        \"description\": \"\"\n      }\n    },\n    {\n      \"column\": \"Standard Error\",\n      \"properties\": {\n        \"dtype\": \"number\",\n        \"std\": 0.017146178556969302,\n        \"min\": 0.01848,\n        \"max\": 0.13693,\n        \"num_unique_values\": 153,\n        \"samples\": [\n          0.06607,\n          0.04802,\n          0.06698\n        ],\n        \"semantic_type\": \"\",\n        \"description\": \"\"\n      }\n    },\n    {\n      \"column\": \"Economy (GDP per Capita)\",\n      \"properties\": {\n        \"dtype\": \"number\",\n        \"std\": 0.40312077853791006,\n        \"min\": 0.0,\n        \"max\": 1.69042,\n        \"num_unique_values\": 158,\n        \"samples\": [\n          0.27108,\n          1.27074,\n          0.8818\n        ],\n        \"semantic_type\": \"\",\n        \"description\": \"\"\n      }\n    },\n    {\n      \"column\": \"Family\",\n      \"properties\": {\n        \"dtype\": \"number\",\n        \"std\": 0.27236908600791543,\n        \"min\": 0.0,\n        \"max\": 1.40223,\n        \"num_unique_values\": 158,\n        \"samples\": [\n          0.70905,\n          1.25712,\n          0.747\n        ],\n        \"semantic_type\": \"\",\n        \"description\": \"\"\n      }\n    },\n    {\n      \"column\": \"Health (Life Expectancy)\",\n      \"properties\": {\n        \"dtype\": \"number\",\n        \"std\": 0.24707776630217204,\n        \"min\": 0.0,\n        \"max\": 1.02525,\n        \"num_unique_values\": 157,\n        \"samples\": [\n          0.04776,\n          0.99111,\n          0.61712\n        ],\n        \"semantic_type\": \"\",\n        \"description\": \"\"\n      }\n    },\n    {\n      \"column\": \"Freedom\",\n      \"properties\": {\n        \"dtype\": \"number\",\n        \"std\": 0.15069278393767796,\n        \"min\": 0.0,\n        \"max\": 0.66973,\n        \"num_unique_values\": 158,\n        \"samples\": [\n          0.44017,\n          0.49615,\n          0.17288\n        ],\n        \"semantic_type\": \"\",\n        \"description\": \"\"\n      }\n    },\n    {\n      \"column\": \"Trust (Government Corruption)\",\n      \"properties\": {\n        \"dtype\": \"number\",\n        \"std\": 0.12003407357455917,\n        \"min\": 0.0,\n        \"max\": 0.55191,\n        \"num_unique_values\": 157,\n        \"samples\": [\n          0.12474,\n          0.07857,\n          0.06324\n        ],\n        \"semantic_type\": \"\",\n        \"description\": \"\"\n      }\n    },\n    {\n      \"column\": \"Generosity\",\n      \"properties\": {\n        \"dtype\": \"number\",\n        \"std\": 0.12668493402020542,\n        \"min\": 0.0,\n        \"max\": 0.79588,\n        \"num_unique_values\": 158,\n        \"samples\": [\n          0.79588,\n          0.10705,\n          0.11291\n        ],\n        \"semantic_type\": \"\",\n        \"description\": \"\"\n      }\n    },\n    {\n      \"column\": \"Dystopia Residual\",\n      \"properties\": {\n        \"dtype\": \"number\",\n        \"std\": 0.5535497923037984,\n        \"min\": 0.32858,\n        \"max\": 3.60214,\n        \"num_unique_values\": 158,\n        \"samples\": [\n          1.41805,\n          1.68435,\n          1.59927\n        ],\n        \"semantic_type\": \"\",\n        \"description\": \"\"\n      }\n    }\n  ]\n}"
            }
          },
          "metadata": {},
          "execution_count": 3
        }
      ]
    },
    {
      "cell_type": "code",
      "source": [
        "df_2015.info()"
      ],
      "metadata": {
        "colab": {
          "base_uri": "https://localhost:8080/"
        },
        "id": "Iqjcanx6UbR2",
        "outputId": "1e1412d3-57c6-4f53-b856-9ecb5f61eb30"
      },
      "execution_count": 7,
      "outputs": [
        {
          "output_type": "stream",
          "name": "stdout",
          "text": [
            "<class 'pandas.core.frame.DataFrame'>\n",
            "RangeIndex: 158 entries, 0 to 157\n",
            "Data columns (total 12 columns):\n",
            " #   Column                         Non-Null Count  Dtype  \n",
            "---  ------                         --------------  -----  \n",
            " 0   Country                        158 non-null    object \n",
            " 1   Region                         158 non-null    object \n",
            " 2   Happiness Rank                 158 non-null    int64  \n",
            " 3   Happiness Score                158 non-null    float64\n",
            " 4   Standard Error                 158 non-null    float64\n",
            " 5   Economy (GDP per Capita)       158 non-null    float64\n",
            " 6   Family                         158 non-null    float64\n",
            " 7   Health (Life Expectancy)       158 non-null    float64\n",
            " 8   Freedom                        158 non-null    float64\n",
            " 9   Trust (Government Corruption)  158 non-null    float64\n",
            " 10  Generosity                     158 non-null    float64\n",
            " 11  Dystopia Residual              158 non-null    float64\n",
            "dtypes: float64(9), int64(1), object(2)\n",
            "memory usage: 14.9+ KB\n"
          ]
        }
      ]
    },
    {
      "cell_type": "markdown",
      "source": [
        "**Dataset 2**\n",
        "*   Type: CSV File\n",
        "*   Method: Programmatic Download using KaggleHub API\n",
        "*   Description: he 2016 World Happiness Report was programmatically retrieved using KaggleHub, simulating automated access to public datasets."
      ],
      "metadata": {
        "id": "ecIdDdw-8rZu"
      }
    },
    {
      "cell_type": "code",
      "source": [
        "# Set the path to the file\n",
        "file_path = \"2016.csv\"\n",
        "# Load the latest version\n",
        "df_2016 = kagglehub.load_dataset(\n",
        "  KaggleDatasetAdapter.PANDAS,\n",
        "  \"unsdsn/world-happiness\",\n",
        "  file_path,\n",
        "  # https://github.com/Kaggle/kagglehub/blob/main/README.md#kaggledatasetadapterpandas\n",
        ")\n",
        "print(\"2016 Dataset loaded. Shape:\", df_2016.shape)\n",
        "df_2016.head()"
      ],
      "metadata": {
        "colab": {
          "base_uri": "https://localhost:8080/",
          "height": 380
        },
        "id": "JI-SRc0Q4bPY",
        "outputId": "d2264de5-03b2-47f8-fcd5-e684404c52c9"
      },
      "execution_count": 4,
      "outputs": [
        {
          "output_type": "stream",
          "name": "stderr",
          "text": [
            "<ipython-input-4-c6fd249aef29>:4: DeprecationWarning: load_dataset is deprecated and will be removed in future version.\n",
            "  df_2016 = kagglehub.load_dataset(\n"
          ]
        },
        {
          "output_type": "stream",
          "name": "stdout",
          "text": [
            "2016 Dataset loaded. Shape: (157, 13)\n"
          ]
        },
        {
          "output_type": "execute_result",
          "data": {
            "text/plain": [
              "       Country          Region  Happiness Rank  Happiness Score  \\\n",
              "0      Denmark  Western Europe               1            7.526   \n",
              "1  Switzerland  Western Europe               2            7.509   \n",
              "2      Iceland  Western Europe               3            7.501   \n",
              "3       Norway  Western Europe               4            7.498   \n",
              "4      Finland  Western Europe               5            7.413   \n",
              "\n",
              "   Lower Confidence Interval  Upper Confidence Interval  \\\n",
              "0                      7.460                      7.592   \n",
              "1                      7.428                      7.590   \n",
              "2                      7.333                      7.669   \n",
              "3                      7.421                      7.575   \n",
              "4                      7.351                      7.475   \n",
              "\n",
              "   Economy (GDP per Capita)   Family  Health (Life Expectancy)  Freedom  \\\n",
              "0                   1.44178  1.16374                   0.79504  0.57941   \n",
              "1                   1.52733  1.14524                   0.86303  0.58557   \n",
              "2                   1.42666  1.18326                   0.86733  0.56624   \n",
              "3                   1.57744  1.12690                   0.79579  0.59609   \n",
              "4                   1.40598  1.13464                   0.81091  0.57104   \n",
              "\n",
              "   Trust (Government Corruption)  Generosity  Dystopia Residual  \n",
              "0                        0.44453     0.36171            2.73939  \n",
              "1                        0.41203     0.28083            2.69463  \n",
              "2                        0.14975     0.47678            2.83137  \n",
              "3                        0.35776     0.37895            2.66465  \n",
              "4                        0.41004     0.25492            2.82596  "
            ],
            "text/html": [
              "\n",
              "  <div id=\"df-25f7fc95-e645-4b41-8d8a-1c5232c8afef\" class=\"colab-df-container\">\n",
              "    <div>\n",
              "<style scoped>\n",
              "    .dataframe tbody tr th:only-of-type {\n",
              "        vertical-align: middle;\n",
              "    }\n",
              "\n",
              "    .dataframe tbody tr th {\n",
              "        vertical-align: top;\n",
              "    }\n",
              "\n",
              "    .dataframe thead th {\n",
              "        text-align: right;\n",
              "    }\n",
              "</style>\n",
              "<table border=\"1\" class=\"dataframe\">\n",
              "  <thead>\n",
              "    <tr style=\"text-align: right;\">\n",
              "      <th></th>\n",
              "      <th>Country</th>\n",
              "      <th>Region</th>\n",
              "      <th>Happiness Rank</th>\n",
              "      <th>Happiness Score</th>\n",
              "      <th>Lower Confidence Interval</th>\n",
              "      <th>Upper Confidence Interval</th>\n",
              "      <th>Economy (GDP per Capita)</th>\n",
              "      <th>Family</th>\n",
              "      <th>Health (Life Expectancy)</th>\n",
              "      <th>Freedom</th>\n",
              "      <th>Trust (Government Corruption)</th>\n",
              "      <th>Generosity</th>\n",
              "      <th>Dystopia Residual</th>\n",
              "    </tr>\n",
              "  </thead>\n",
              "  <tbody>\n",
              "    <tr>\n",
              "      <th>0</th>\n",
              "      <td>Denmark</td>\n",
              "      <td>Western Europe</td>\n",
              "      <td>1</td>\n",
              "      <td>7.526</td>\n",
              "      <td>7.460</td>\n",
              "      <td>7.592</td>\n",
              "      <td>1.44178</td>\n",
              "      <td>1.16374</td>\n",
              "      <td>0.79504</td>\n",
              "      <td>0.57941</td>\n",
              "      <td>0.44453</td>\n",
              "      <td>0.36171</td>\n",
              "      <td>2.73939</td>\n",
              "    </tr>\n",
              "    <tr>\n",
              "      <th>1</th>\n",
              "      <td>Switzerland</td>\n",
              "      <td>Western Europe</td>\n",
              "      <td>2</td>\n",
              "      <td>7.509</td>\n",
              "      <td>7.428</td>\n",
              "      <td>7.590</td>\n",
              "      <td>1.52733</td>\n",
              "      <td>1.14524</td>\n",
              "      <td>0.86303</td>\n",
              "      <td>0.58557</td>\n",
              "      <td>0.41203</td>\n",
              "      <td>0.28083</td>\n",
              "      <td>2.69463</td>\n",
              "    </tr>\n",
              "    <tr>\n",
              "      <th>2</th>\n",
              "      <td>Iceland</td>\n",
              "      <td>Western Europe</td>\n",
              "      <td>3</td>\n",
              "      <td>7.501</td>\n",
              "      <td>7.333</td>\n",
              "      <td>7.669</td>\n",
              "      <td>1.42666</td>\n",
              "      <td>1.18326</td>\n",
              "      <td>0.86733</td>\n",
              "      <td>0.56624</td>\n",
              "      <td>0.14975</td>\n",
              "      <td>0.47678</td>\n",
              "      <td>2.83137</td>\n",
              "    </tr>\n",
              "    <tr>\n",
              "      <th>3</th>\n",
              "      <td>Norway</td>\n",
              "      <td>Western Europe</td>\n",
              "      <td>4</td>\n",
              "      <td>7.498</td>\n",
              "      <td>7.421</td>\n",
              "      <td>7.575</td>\n",
              "      <td>1.57744</td>\n",
              "      <td>1.12690</td>\n",
              "      <td>0.79579</td>\n",
              "      <td>0.59609</td>\n",
              "      <td>0.35776</td>\n",
              "      <td>0.37895</td>\n",
              "      <td>2.66465</td>\n",
              "    </tr>\n",
              "    <tr>\n",
              "      <th>4</th>\n",
              "      <td>Finland</td>\n",
              "      <td>Western Europe</td>\n",
              "      <td>5</td>\n",
              "      <td>7.413</td>\n",
              "      <td>7.351</td>\n",
              "      <td>7.475</td>\n",
              "      <td>1.40598</td>\n",
              "      <td>1.13464</td>\n",
              "      <td>0.81091</td>\n",
              "      <td>0.57104</td>\n",
              "      <td>0.41004</td>\n",
              "      <td>0.25492</td>\n",
              "      <td>2.82596</td>\n",
              "    </tr>\n",
              "  </tbody>\n",
              "</table>\n",
              "</div>\n",
              "    <div class=\"colab-df-buttons\">\n",
              "\n",
              "  <div class=\"colab-df-container\">\n",
              "    <button class=\"colab-df-convert\" onclick=\"convertToInteractive('df-25f7fc95-e645-4b41-8d8a-1c5232c8afef')\"\n",
              "            title=\"Convert this dataframe to an interactive table.\"\n",
              "            style=\"display:none;\">\n",
              "\n",
              "  <svg xmlns=\"http://www.w3.org/2000/svg\" height=\"24px\" viewBox=\"0 -960 960 960\">\n",
              "    <path d=\"M120-120v-720h720v720H120Zm60-500h600v-160H180v160Zm220 220h160v-160H400v160Zm0 220h160v-160H400v160ZM180-400h160v-160H180v160Zm440 0h160v-160H620v160ZM180-180h160v-160H180v160Zm440 0h160v-160H620v160Z\"/>\n",
              "  </svg>\n",
              "    </button>\n",
              "\n",
              "  <style>\n",
              "    .colab-df-container {\n",
              "      display:flex;\n",
              "      gap: 12px;\n",
              "    }\n",
              "\n",
              "    .colab-df-convert {\n",
              "      background-color: #E8F0FE;\n",
              "      border: none;\n",
              "      border-radius: 50%;\n",
              "      cursor: pointer;\n",
              "      display: none;\n",
              "      fill: #1967D2;\n",
              "      height: 32px;\n",
              "      padding: 0 0 0 0;\n",
              "      width: 32px;\n",
              "    }\n",
              "\n",
              "    .colab-df-convert:hover {\n",
              "      background-color: #E2EBFA;\n",
              "      box-shadow: 0px 1px 2px rgba(60, 64, 67, 0.3), 0px 1px 3px 1px rgba(60, 64, 67, 0.15);\n",
              "      fill: #174EA6;\n",
              "    }\n",
              "\n",
              "    .colab-df-buttons div {\n",
              "      margin-bottom: 4px;\n",
              "    }\n",
              "\n",
              "    [theme=dark] .colab-df-convert {\n",
              "      background-color: #3B4455;\n",
              "      fill: #D2E3FC;\n",
              "    }\n",
              "\n",
              "    [theme=dark] .colab-df-convert:hover {\n",
              "      background-color: #434B5C;\n",
              "      box-shadow: 0px 1px 3px 1px rgba(0, 0, 0, 0.15);\n",
              "      filter: drop-shadow(0px 1px 2px rgba(0, 0, 0, 0.3));\n",
              "      fill: #FFFFFF;\n",
              "    }\n",
              "  </style>\n",
              "\n",
              "    <script>\n",
              "      const buttonEl =\n",
              "        document.querySelector('#df-25f7fc95-e645-4b41-8d8a-1c5232c8afef button.colab-df-convert');\n",
              "      buttonEl.style.display =\n",
              "        google.colab.kernel.accessAllowed ? 'block' : 'none';\n",
              "\n",
              "      async function convertToInteractive(key) {\n",
              "        const element = document.querySelector('#df-25f7fc95-e645-4b41-8d8a-1c5232c8afef');\n",
              "        const dataTable =\n",
              "          await google.colab.kernel.invokeFunction('convertToInteractive',\n",
              "                                                    [key], {});\n",
              "        if (!dataTable) return;\n",
              "\n",
              "        const docLinkHtml = 'Like what you see? Visit the ' +\n",
              "          '<a target=\"_blank\" href=https://colab.research.google.com/notebooks/data_table.ipynb>data table notebook</a>'\n",
              "          + ' to learn more about interactive tables.';\n",
              "        element.innerHTML = '';\n",
              "        dataTable['output_type'] = 'display_data';\n",
              "        await google.colab.output.renderOutput(dataTable, element);\n",
              "        const docLink = document.createElement('div');\n",
              "        docLink.innerHTML = docLinkHtml;\n",
              "        element.appendChild(docLink);\n",
              "      }\n",
              "    </script>\n",
              "  </div>\n",
              "\n",
              "\n",
              "<div id=\"df-805aed63-1021-4569-b6ed-050d85a78706\">\n",
              "  <button class=\"colab-df-quickchart\" onclick=\"quickchart('df-805aed63-1021-4569-b6ed-050d85a78706')\"\n",
              "            title=\"Suggest charts\"\n",
              "            style=\"display:none;\">\n",
              "\n",
              "<svg xmlns=\"http://www.w3.org/2000/svg\" height=\"24px\"viewBox=\"0 0 24 24\"\n",
              "     width=\"24px\">\n",
              "    <g>\n",
              "        <path d=\"M19 3H5c-1.1 0-2 .9-2 2v14c0 1.1.9 2 2 2h14c1.1 0 2-.9 2-2V5c0-1.1-.9-2-2-2zM9 17H7v-7h2v7zm4 0h-2V7h2v10zm4 0h-2v-4h2v4z\"/>\n",
              "    </g>\n",
              "</svg>\n",
              "  </button>\n",
              "\n",
              "<style>\n",
              "  .colab-df-quickchart {\n",
              "      --bg-color: #E8F0FE;\n",
              "      --fill-color: #1967D2;\n",
              "      --hover-bg-color: #E2EBFA;\n",
              "      --hover-fill-color: #174EA6;\n",
              "      --disabled-fill-color: #AAA;\n",
              "      --disabled-bg-color: #DDD;\n",
              "  }\n",
              "\n",
              "  [theme=dark] .colab-df-quickchart {\n",
              "      --bg-color: #3B4455;\n",
              "      --fill-color: #D2E3FC;\n",
              "      --hover-bg-color: #434B5C;\n",
              "      --hover-fill-color: #FFFFFF;\n",
              "      --disabled-bg-color: #3B4455;\n",
              "      --disabled-fill-color: #666;\n",
              "  }\n",
              "\n",
              "  .colab-df-quickchart {\n",
              "    background-color: var(--bg-color);\n",
              "    border: none;\n",
              "    border-radius: 50%;\n",
              "    cursor: pointer;\n",
              "    display: none;\n",
              "    fill: var(--fill-color);\n",
              "    height: 32px;\n",
              "    padding: 0;\n",
              "    width: 32px;\n",
              "  }\n",
              "\n",
              "  .colab-df-quickchart:hover {\n",
              "    background-color: var(--hover-bg-color);\n",
              "    box-shadow: 0 1px 2px rgba(60, 64, 67, 0.3), 0 1px 3px 1px rgba(60, 64, 67, 0.15);\n",
              "    fill: var(--button-hover-fill-color);\n",
              "  }\n",
              "\n",
              "  .colab-df-quickchart-complete:disabled,\n",
              "  .colab-df-quickchart-complete:disabled:hover {\n",
              "    background-color: var(--disabled-bg-color);\n",
              "    fill: var(--disabled-fill-color);\n",
              "    box-shadow: none;\n",
              "  }\n",
              "\n",
              "  .colab-df-spinner {\n",
              "    border: 2px solid var(--fill-color);\n",
              "    border-color: transparent;\n",
              "    border-bottom-color: var(--fill-color);\n",
              "    animation:\n",
              "      spin 1s steps(1) infinite;\n",
              "  }\n",
              "\n",
              "  @keyframes spin {\n",
              "    0% {\n",
              "      border-color: transparent;\n",
              "      border-bottom-color: var(--fill-color);\n",
              "      border-left-color: var(--fill-color);\n",
              "    }\n",
              "    20% {\n",
              "      border-color: transparent;\n",
              "      border-left-color: var(--fill-color);\n",
              "      border-top-color: var(--fill-color);\n",
              "    }\n",
              "    30% {\n",
              "      border-color: transparent;\n",
              "      border-left-color: var(--fill-color);\n",
              "      border-top-color: var(--fill-color);\n",
              "      border-right-color: var(--fill-color);\n",
              "    }\n",
              "    40% {\n",
              "      border-color: transparent;\n",
              "      border-right-color: var(--fill-color);\n",
              "      border-top-color: var(--fill-color);\n",
              "    }\n",
              "    60% {\n",
              "      border-color: transparent;\n",
              "      border-right-color: var(--fill-color);\n",
              "    }\n",
              "    80% {\n",
              "      border-color: transparent;\n",
              "      border-right-color: var(--fill-color);\n",
              "      border-bottom-color: var(--fill-color);\n",
              "    }\n",
              "    90% {\n",
              "      border-color: transparent;\n",
              "      border-bottom-color: var(--fill-color);\n",
              "    }\n",
              "  }\n",
              "</style>\n",
              "\n",
              "  <script>\n",
              "    async function quickchart(key) {\n",
              "      const quickchartButtonEl =\n",
              "        document.querySelector('#' + key + ' button');\n",
              "      quickchartButtonEl.disabled = true;  // To prevent multiple clicks.\n",
              "      quickchartButtonEl.classList.add('colab-df-spinner');\n",
              "      try {\n",
              "        const charts = await google.colab.kernel.invokeFunction(\n",
              "            'suggestCharts', [key], {});\n",
              "      } catch (error) {\n",
              "        console.error('Error during call to suggestCharts:', error);\n",
              "      }\n",
              "      quickchartButtonEl.classList.remove('colab-df-spinner');\n",
              "      quickchartButtonEl.classList.add('colab-df-quickchart-complete');\n",
              "    }\n",
              "    (() => {\n",
              "      let quickchartButtonEl =\n",
              "        document.querySelector('#df-805aed63-1021-4569-b6ed-050d85a78706 button');\n",
              "      quickchartButtonEl.style.display =\n",
              "        google.colab.kernel.accessAllowed ? 'block' : 'none';\n",
              "    })();\n",
              "  </script>\n",
              "</div>\n",
              "\n",
              "    </div>\n",
              "  </div>\n"
            ],
            "application/vnd.google.colaboratory.intrinsic+json": {
              "type": "dataframe",
              "variable_name": "df_2016",
              "summary": "{\n  \"name\": \"df_2016\",\n  \"rows\": 157,\n  \"fields\": [\n    {\n      \"column\": \"Country\",\n      \"properties\": {\n        \"dtype\": \"string\",\n        \"num_unique_values\": 157,\n        \"samples\": [\n          \"Congo (Brazzaville)\",\n          \"El Salvador\",\n          \"Gabon\"\n        ],\n        \"semantic_type\": \"\",\n        \"description\": \"\"\n      }\n    },\n    {\n      \"column\": \"Region\",\n      \"properties\": {\n        \"dtype\": \"category\",\n        \"num_unique_values\": 10,\n        \"samples\": [\n          \"Sub-Saharan Africa\",\n          \"North America\",\n          \"Southeastern Asia\"\n        ],\n        \"semantic_type\": \"\",\n        \"description\": \"\"\n      }\n    },\n    {\n      \"column\": \"Happiness Rank\",\n      \"properties\": {\n        \"dtype\": \"number\",\n        \"std\": 45,\n        \"min\": 1,\n        \"max\": 157,\n        \"num_unique_values\": 154,\n        \"samples\": [\n          16,\n          97,\n          156\n        ],\n        \"semantic_type\": \"\",\n        \"description\": \"\"\n      }\n    },\n    {\n      \"column\": \"Happiness Score\",\n      \"properties\": {\n        \"dtype\": \"number\",\n        \"std\": 1.1416735176005712,\n        \"min\": 2.905,\n        \"max\": 7.526,\n        \"num_unique_values\": 154,\n        \"samples\": [\n          6.994,\n          5.057,\n          3.069\n        ],\n        \"semantic_type\": \"\",\n        \"description\": \"\"\n      }\n    },\n    {\n      \"column\": \"Lower Confidence Interval\",\n      \"properties\": {\n        \"dtype\": \"number\",\n        \"std\": 1.1480426137782485,\n        \"min\": 2.732,\n        \"max\": 7.46,\n        \"num_unique_values\": 154,\n        \"samples\": [\n          6.93,\n          5.017,\n          2.936\n        ],\n        \"semantic_type\": \"\",\n        \"description\": \"\"\n      }\n    },\n    {\n      \"column\": \"Upper Confidence Interval\",\n      \"properties\": {\n        \"dtype\": \"number\",\n        \"std\": 1.1364932228133044,\n        \"min\": 3.078,\n        \"max\": 7.669,\n        \"num_unique_values\": 154,\n        \"samples\": [\n          7.058,\n          5.18,\n          3.202\n        ],\n        \"semantic_type\": \"\",\n        \"description\": \"\"\n      }\n    },\n    {\n      \"column\": \"Economy (GDP per Capita)\",\n      \"properties\": {\n        \"dtype\": \"number\",\n        \"std\": 0.4125954051030412,\n        \"min\": 0.0,\n        \"max\": 1.82427,\n        \"num_unique_values\": 157,\n        \"samples\": [\n          0.77109,\n          0.8737,\n          1.15851\n        ],\n        \"semantic_type\": \"\",\n        \"description\": \"\"\n      }\n    },\n    {\n      \"column\": \"Family\",\n      \"properties\": {\n        \"dtype\": \"number\",\n        \"std\": 0.26670574619957355,\n        \"min\": 0.0,\n        \"max\": 1.18326,\n        \"num_unique_values\": 157,\n        \"samples\": [\n          0.47799,\n          0.80975,\n          0.72368\n        ],\n        \"semantic_type\": \"\",\n        \"description\": \"\"\n      }\n    },\n    {\n      \"column\": \"Health (Life Expectancy)\",\n      \"properties\": {\n        \"dtype\": \"number\",\n        \"std\": 0.2293491914878582,\n        \"min\": 0.0,\n        \"max\": 0.95277,\n        \"num_unique_values\": 156,\n        \"samples\": [\n          0.33108,\n          0.58295,\n          0.73561\n        ],\n        \"semantic_type\": \"\",\n        \"description\": \"\"\n      }\n    },\n    {\n      \"column\": \"Freedom\",\n      \"properties\": {\n        \"dtype\": \"number\",\n        \"std\": 0.1455067674417439,\n        \"min\": 0.0,\n        \"max\": 0.60848,\n        \"num_unique_values\": 157,\n        \"samples\": [\n          0.37938,\n          0.37269,\n          0.28098\n        ],\n        \"semantic_type\": \"\",\n        \"description\": \"\"\n      }\n    },\n    {\n      \"column\": \"Trust (Government Corruption)\",\n      \"properties\": {\n        \"dtype\": \"number\",\n        \"std\": 0.1110379099181551,\n        \"min\": 0.0,\n        \"max\": 0.50521,\n        \"num_unique_values\": 156,\n        \"samples\": [\n          0.36794,\n          0.07396,\n          0.02745\n        ],\n        \"semantic_type\": \"\",\n        \"description\": \"\"\n      }\n    },\n    {\n      \"column\": \"Generosity\",\n      \"properties\": {\n        \"dtype\": \"number\",\n        \"std\": 0.13375569129812104,\n        \"min\": 0.0,\n        \"max\": 0.81971,\n        \"num_unique_values\": 157,\n        \"samples\": [\n          0.12077,\n          0.08877,\n          0.06244\n        ],\n        \"semantic_type\": \"\",\n        \"description\": \"\"\n      }\n    },\n    {\n      \"column\": \"Dystopia Residual\",\n      \"properties\": {\n        \"dtype\": \"number\",\n        \"std\": 0.5422199984864142,\n        \"min\": 0.81789,\n        \"max\": 3.83772,\n        \"num_unique_values\": 157,\n        \"samples\": [\n          2.10681,\n          3.22134,\n          1.45332\n        ],\n        \"semantic_type\": \"\",\n        \"description\": \"\"\n      }\n    }\n  ]\n}"
            }
          },
          "metadata": {},
          "execution_count": 4
        }
      ]
    },
    {
      "cell_type": "code",
      "source": [
        "df_2016.info()"
      ],
      "metadata": {
        "colab": {
          "base_uri": "https://localhost:8080/"
        },
        "id": "rWrbkXl3UnBv",
        "outputId": "c2351f93-4dd6-4c8b-d558-a18fb2e31139"
      },
      "execution_count": 8,
      "outputs": [
        {
          "output_type": "stream",
          "name": "stdout",
          "text": [
            "<class 'pandas.core.frame.DataFrame'>\n",
            "RangeIndex: 157 entries, 0 to 156\n",
            "Data columns (total 13 columns):\n",
            " #   Column                         Non-Null Count  Dtype  \n",
            "---  ------                         --------------  -----  \n",
            " 0   Country                        157 non-null    object \n",
            " 1   Region                         157 non-null    object \n",
            " 2   Happiness Rank                 157 non-null    int64  \n",
            " 3   Happiness Score                157 non-null    float64\n",
            " 4   Lower Confidence Interval      157 non-null    float64\n",
            " 5   Upper Confidence Interval      157 non-null    float64\n",
            " 6   Economy (GDP per Capita)       157 non-null    float64\n",
            " 7   Family                         157 non-null    float64\n",
            " 8   Health (Life Expectancy)       157 non-null    float64\n",
            " 9   Freedom                        157 non-null    float64\n",
            " 10  Trust (Government Corruption)  157 non-null    float64\n",
            " 11  Generosity                     157 non-null    float64\n",
            " 12  Dystopia Residual              157 non-null    float64\n",
            "dtypes: float64(10), int64(1), object(2)\n",
            "memory usage: 16.1+ KB\n"
          ]
        }
      ]
    },
    {
      "cell_type": "markdown",
      "source": [
        "# **2: Assess Data**"
      ],
      "metadata": {
        "id": "bL5SNv5y9hN4"
      }
    },
    {
      "cell_type": "markdown",
      "source": [
        "# **Data Quality and Tidiness Assessment**"
      ],
      "metadata": {
        "id": "NtuErR7WTfIS"
      }
    },
    {
      "cell_type": "markdown",
      "source": [
        "In this analysis, we examine the 2015 and 2016 World Happiness Report datasets for potential data quality and tidiness issues. We use programmatic checks (such as .info(), .isnull(), .duplicated(), etc.) and visualizations (histograms, bar charts) to identify and confirm each issue.\n",
        "The goal is to document at least two data quality issues and two data tidiness issues for each dataset, with clear justification and evidence."
      ],
      "metadata": {
        "id": "D0nGkDdYTmnp"
      }
    },
    {
      "cell_type": "markdown",
      "source": [
        "*Overview of 2015 Data*"
      ],
      "metadata": {
        "id": "aR55jJhxT_Ns"
      }
    },
    {
      "cell_type": "code",
      "source": [
        "df_2015.shape"
      ],
      "metadata": {
        "colab": {
          "base_uri": "https://localhost:8080/"
        },
        "id": "gGoSXynaVTHT",
        "outputId": "e6664cf6-061c-4bf8-cf12-a593991b7134"
      },
      "execution_count": 15,
      "outputs": [
        {
          "output_type": "execute_result",
          "data": {
            "text/plain": [
              "(158, 12)"
            ]
          },
          "metadata": {},
          "execution_count": 15
        }
      ]
    },
    {
      "cell_type": "code",
      "source": [
        "df_2015.info()"
      ],
      "metadata": {
        "colab": {
          "base_uri": "https://localhost:8080/"
        },
        "id": "_jeJUQgWUKO3",
        "outputId": "e51b3fd7-5671-40e4-d02c-fb7d9b9fc195"
      },
      "execution_count": 14,
      "outputs": [
        {
          "output_type": "stream",
          "name": "stdout",
          "text": [
            "<class 'pandas.core.frame.DataFrame'>\n",
            "RangeIndex: 158 entries, 0 to 157\n",
            "Data columns (total 12 columns):\n",
            " #   Column                         Non-Null Count  Dtype  \n",
            "---  ------                         --------------  -----  \n",
            " 0   Country                        158 non-null    object \n",
            " 1   Region                         158 non-null    object \n",
            " 2   Happiness Rank                 158 non-null    int64  \n",
            " 3   Happiness Score                158 non-null    float64\n",
            " 4   Standard Error                 158 non-null    float64\n",
            " 5   Economy (GDP per Capita)       158 non-null    float64\n",
            " 6   Family                         158 non-null    float64\n",
            " 7   Health (Life Expectancy)       158 non-null    float64\n",
            " 8   Freedom                        158 non-null    float64\n",
            " 9   Trust (Government Corruption)  158 non-null    float64\n",
            " 10  Generosity                     158 non-null    float64\n",
            " 11  Dystopia Residual              158 non-null    float64\n",
            "dtypes: float64(9), int64(1), object(2)\n",
            "memory usage: 14.9+ KB\n"
          ]
        }
      ]
    },
    {
      "cell_type": "code",
      "source": [
        "# Check for Missing Values\n",
        "df_2015.isnull().sum()"
      ],
      "metadata": {
        "colab": {
          "base_uri": "https://localhost:8080/",
          "height": 460
        },
        "id": "0r-MHRzHUz5w",
        "outputId": "cce3dbef-61c1-419d-9208-8ce5c0813008"
      },
      "execution_count": 29,
      "outputs": [
        {
          "output_type": "execute_result",
          "data": {
            "text/plain": [
              "Country                          0\n",
              "Region                           0\n",
              "Happiness Rank                   0\n",
              "Happiness Score                  0\n",
              "Standard Error                   0\n",
              "Economy (GDP per Capita)         0\n",
              "Family                           0\n",
              "Health (Life Expectancy)         0\n",
              "Freedom                          0\n",
              "Trust (Government Corruption)    0\n",
              "Generosity                       0\n",
              "Dystopia Residual                0\n",
              "dtype: int64"
            ],
            "text/html": [
              "<div>\n",
              "<style scoped>\n",
              "    .dataframe tbody tr th:only-of-type {\n",
              "        vertical-align: middle;\n",
              "    }\n",
              "\n",
              "    .dataframe tbody tr th {\n",
              "        vertical-align: top;\n",
              "    }\n",
              "\n",
              "    .dataframe thead th {\n",
              "        text-align: right;\n",
              "    }\n",
              "</style>\n",
              "<table border=\"1\" class=\"dataframe\">\n",
              "  <thead>\n",
              "    <tr style=\"text-align: right;\">\n",
              "      <th></th>\n",
              "      <th>0</th>\n",
              "    </tr>\n",
              "  </thead>\n",
              "  <tbody>\n",
              "    <tr>\n",
              "      <th>Country</th>\n",
              "      <td>0</td>\n",
              "    </tr>\n",
              "    <tr>\n",
              "      <th>Region</th>\n",
              "      <td>0</td>\n",
              "    </tr>\n",
              "    <tr>\n",
              "      <th>Happiness Rank</th>\n",
              "      <td>0</td>\n",
              "    </tr>\n",
              "    <tr>\n",
              "      <th>Happiness Score</th>\n",
              "      <td>0</td>\n",
              "    </tr>\n",
              "    <tr>\n",
              "      <th>Standard Error</th>\n",
              "      <td>0</td>\n",
              "    </tr>\n",
              "    <tr>\n",
              "      <th>Economy (GDP per Capita)</th>\n",
              "      <td>0</td>\n",
              "    </tr>\n",
              "    <tr>\n",
              "      <th>Family</th>\n",
              "      <td>0</td>\n",
              "    </tr>\n",
              "    <tr>\n",
              "      <th>Health (Life Expectancy)</th>\n",
              "      <td>0</td>\n",
              "    </tr>\n",
              "    <tr>\n",
              "      <th>Freedom</th>\n",
              "      <td>0</td>\n",
              "    </tr>\n",
              "    <tr>\n",
              "      <th>Trust (Government Corruption)</th>\n",
              "      <td>0</td>\n",
              "    </tr>\n",
              "    <tr>\n",
              "      <th>Generosity</th>\n",
              "      <td>0</td>\n",
              "    </tr>\n",
              "    <tr>\n",
              "      <th>Dystopia Residual</th>\n",
              "      <td>0</td>\n",
              "    </tr>\n",
              "  </tbody>\n",
              "</table>\n",
              "</div><br><label><b>dtype:</b> int64</label>"
            ]
          },
          "metadata": {},
          "execution_count": 29
        }
      ]
    },
    {
      "cell_type": "code",
      "source": [
        "if (df_2015.isnull().sum().any() == 0):\n",
        "    print(\"No missing values in 2015 dataset\")\n",
        "else:\n",
        "    print(\"Missing values in 2015 dataset\")"
      ],
      "metadata": {
        "colab": {
          "base_uri": "https://localhost:8080/"
        },
        "id": "gO1PDRzXW6o1",
        "outputId": "b4096ffb-3701-4e45-c78a-16aced54b3de"
      },
      "execution_count": 28,
      "outputs": [
        {
          "output_type": "stream",
          "name": "stdout",
          "text": [
            "No missing values in 2015 dataset\n"
          ]
        }
      ]
    },
    {
      "cell_type": "markdown",
      "source": [
        "*Overview of 2016 Data*"
      ],
      "metadata": {
        "id": "qHnkUTlBVenq"
      }
    },
    {
      "cell_type": "code",
      "source": [
        "df_2016.shape"
      ],
      "metadata": {
        "colab": {
          "base_uri": "https://localhost:8080/"
        },
        "id": "hXt3FCcGVio-",
        "outputId": "212dac71-5c26-4c86-8361-02d764c7fa53"
      },
      "execution_count": 16,
      "outputs": [
        {
          "output_type": "execute_result",
          "data": {
            "text/plain": [
              "(157, 13)"
            ]
          },
          "metadata": {},
          "execution_count": 16
        }
      ]
    },
    {
      "cell_type": "code",
      "source": [
        "df_2016.info()"
      ],
      "metadata": {
        "colab": {
          "base_uri": "https://localhost:8080/"
        },
        "id": "8HRlUT5-Vqu4",
        "outputId": "89d5122f-39cf-40b7-95a2-9e294e71edd4"
      },
      "execution_count": 17,
      "outputs": [
        {
          "output_type": "stream",
          "name": "stdout",
          "text": [
            "<class 'pandas.core.frame.DataFrame'>\n",
            "RangeIndex: 157 entries, 0 to 156\n",
            "Data columns (total 13 columns):\n",
            " #   Column                         Non-Null Count  Dtype  \n",
            "---  ------                         --------------  -----  \n",
            " 0   Country                        157 non-null    object \n",
            " 1   Region                         157 non-null    object \n",
            " 2   Happiness Rank                 157 non-null    int64  \n",
            " 3   Happiness Score                157 non-null    float64\n",
            " 4   Lower Confidence Interval      157 non-null    float64\n",
            " 5   Upper Confidence Interval      157 non-null    float64\n",
            " 6   Economy (GDP per Capita)       157 non-null    float64\n",
            " 7   Family                         157 non-null    float64\n",
            " 8   Health (Life Expectancy)       157 non-null    float64\n",
            " 9   Freedom                        157 non-null    float64\n",
            " 10  Trust (Government Corruption)  157 non-null    float64\n",
            " 11  Generosity                     157 non-null    float64\n",
            " 12  Dystopia Residual              157 non-null    float64\n",
            "dtypes: float64(10), int64(1), object(2)\n",
            "memory usage: 16.1+ KB\n"
          ]
        }
      ]
    },
    {
      "cell_type": "code",
      "source": [
        "# Check for Missing Values\n",
        "df_2016.isnull().sum()"
      ],
      "metadata": {
        "colab": {
          "base_uri": "https://localhost:8080/",
          "height": 492
        },
        "id": "9ggwBd_tVw6u",
        "outputId": "30e99808-3fd7-4559-dfdc-3784f5a8c5c8"
      },
      "execution_count": 18,
      "outputs": [
        {
          "output_type": "execute_result",
          "data": {
            "text/plain": [
              "Country                          0\n",
              "Region                           0\n",
              "Happiness Rank                   0\n",
              "Happiness Score                  0\n",
              "Lower Confidence Interval        0\n",
              "Upper Confidence Interval        0\n",
              "Economy (GDP per Capita)         0\n",
              "Family                           0\n",
              "Health (Life Expectancy)         0\n",
              "Freedom                          0\n",
              "Trust (Government Corruption)    0\n",
              "Generosity                       0\n",
              "Dystopia Residual                0\n",
              "dtype: int64"
            ],
            "text/html": [
              "<div>\n",
              "<style scoped>\n",
              "    .dataframe tbody tr th:only-of-type {\n",
              "        vertical-align: middle;\n",
              "    }\n",
              "\n",
              "    .dataframe tbody tr th {\n",
              "        vertical-align: top;\n",
              "    }\n",
              "\n",
              "    .dataframe thead th {\n",
              "        text-align: right;\n",
              "    }\n",
              "</style>\n",
              "<table border=\"1\" class=\"dataframe\">\n",
              "  <thead>\n",
              "    <tr style=\"text-align: right;\">\n",
              "      <th></th>\n",
              "      <th>0</th>\n",
              "    </tr>\n",
              "  </thead>\n",
              "  <tbody>\n",
              "    <tr>\n",
              "      <th>Country</th>\n",
              "      <td>0</td>\n",
              "    </tr>\n",
              "    <tr>\n",
              "      <th>Region</th>\n",
              "      <td>0</td>\n",
              "    </tr>\n",
              "    <tr>\n",
              "      <th>Happiness Rank</th>\n",
              "      <td>0</td>\n",
              "    </tr>\n",
              "    <tr>\n",
              "      <th>Happiness Score</th>\n",
              "      <td>0</td>\n",
              "    </tr>\n",
              "    <tr>\n",
              "      <th>Lower Confidence Interval</th>\n",
              "      <td>0</td>\n",
              "    </tr>\n",
              "    <tr>\n",
              "      <th>Upper Confidence Interval</th>\n",
              "      <td>0</td>\n",
              "    </tr>\n",
              "    <tr>\n",
              "      <th>Economy (GDP per Capita)</th>\n",
              "      <td>0</td>\n",
              "    </tr>\n",
              "    <tr>\n",
              "      <th>Family</th>\n",
              "      <td>0</td>\n",
              "    </tr>\n",
              "    <tr>\n",
              "      <th>Health (Life Expectancy)</th>\n",
              "      <td>0</td>\n",
              "    </tr>\n",
              "    <tr>\n",
              "      <th>Freedom</th>\n",
              "      <td>0</td>\n",
              "    </tr>\n",
              "    <tr>\n",
              "      <th>Trust (Government Corruption)</th>\n",
              "      <td>0</td>\n",
              "    </tr>\n",
              "    <tr>\n",
              "      <th>Generosity</th>\n",
              "      <td>0</td>\n",
              "    </tr>\n",
              "    <tr>\n",
              "      <th>Dystopia Residual</th>\n",
              "      <td>0</td>\n",
              "    </tr>\n",
              "  </tbody>\n",
              "</table>\n",
              "</div><br><label><b>dtype:</b> int64</label>"
            ]
          },
          "metadata": {},
          "execution_count": 18
        }
      ]
    },
    {
      "cell_type": "code",
      "source": [
        "if (df_2016.isnull().sum().any() == 0):\n",
        "    print(\"No missing values in 2016 dataset\")\n",
        "else:\n",
        "    print(\"Missing values in 2016 dataset\")"
      ],
      "metadata": {
        "colab": {
          "base_uri": "https://localhost:8080/"
        },
        "id": "IHK-kP64XJrx",
        "outputId": "44bad46c-c8ff-4fea-af68-6798c8d6b277"
      },
      "execution_count": 31,
      "outputs": [
        {
          "output_type": "stream",
          "name": "stdout",
          "text": [
            "No missing values in 2016 dataset\n"
          ]
        }
      ]
    },
    {
      "cell_type": "markdown",
      "source": [
        "The *.info()* summary shows 158 non-null entries for all columns, and i*snull().sum()* confirms zero missing values in each column. Thus, no missing data is present in 2015."
      ],
      "metadata": {
        "id": "RdImmJEXYQzP"
      }
    },
    {
      "cell_type": "markdown",
      "source": [
        "**2015 Data Quality Issues**"
      ],
      "metadata": {
        "id": "kGz-SE7iYYUd"
      }
    },
    {
      "cell_type": "markdown",
      "source": [
        "1. Duplicate Happiness Rank values (ties in rankings in 2015 data)"
      ],
      "metadata": {
        "id": "gVuhd_okYfw_"
      }
    },
    {
      "cell_type": "code",
      "source": [
        "duplicate_ranks_2015 = df_2015[df_2015['Happiness Rank'].duplicated(keep=False)]\n",
        "print(duplicate_ranks_2015[['Country', 'Happiness Rank', 'Happiness Score']])"
      ],
      "metadata": {
        "colab": {
          "base_uri": "https://localhost:8080/"
        },
        "id": "aq2-SiVgYoeR",
        "outputId": "4dfa8e13-dfdf-4751-e654-168b7d661407"
      },
      "execution_count": 36,
      "outputs": [
        {
          "output_type": "stream",
          "name": "stdout",
          "text": [
            "       Country  Happiness Rank  Happiness Score\n",
            "81      Jordan              82            5.192\n",
            "82  Montenegro              82            5.192\n"
          ]
        }
      ]
    },
    {
      "cell_type": "markdown",
      "source": [
        "The output shows that Jordan and Montenegro both have a rank of 82 with the same happiness score (5.192). This means rank 82 is duplicated, indicating a tie. As a result, the next rank (83) is skipped (no country is ranked 83).\n",
        "\n",
        "**Justification**: Duplicate ranks indicate ties, leading to missing sequential ranks."
      ],
      "metadata": {
        "id": "odA1glnJYynK"
      }
    },
    {
      "cell_type": "markdown",
      "source": [
        "2. Presence of zero values in key numeric columns"
      ],
      "metadata": {
        "id": "gFhlqF_iZLtI"
      }
    },
    {
      "cell_type": "code",
      "source": [
        "factors = ['Economy (GDP per Capita)', 'Family', 'Health (Life Expectancy)',\n",
        "           'Freedom', 'Trust (Government Corruption)', 'Generosity']\n",
        "for col in factors:\n",
        "    zeros = (df_2015[col] == 0).sum()\n",
        "    if zeros:\n",
        "      country = df_2015[df_2015[col] == 0]['Country'].iloc[0]\n",
        "      print(f\"{col}: {zeros} zero value(s), example country: {country}\")"
      ],
      "metadata": {
        "colab": {
          "base_uri": "https://localhost:8080/"
        },
        "id": "yYciNhEJZM6t",
        "outputId": "e9ee38a6-0090-4f91-be40-ab767cb58220"
      },
      "execution_count": 38,
      "outputs": [
        {
          "output_type": "stream",
          "name": "stdout",
          "text": [
            "Economy (GDP per Capita): 1 zero value(s), example country: Congo (Kinshasa)\n",
            "Family: 1 zero value(s), example country: Central African Republic\n",
            "Health (Life Expectancy): 1 zero value(s), example country: Sierra Leone\n",
            "Freedom: 1 zero value(s), example country: Iraq\n",
            "Trust (Government Corruption): 1 zero value(s), example country: Indonesia\n",
            "Generosity: 1 zero value(s), example country: Greece\n"
          ]
        }
      ]
    },
    {
      "cell_type": "markdown",
      "source": [
        "**Justification:** Zero values may indicate missing or incorrectly recorded data, affecting analysis accuracy."
      ],
      "metadata": {
        "id": "JE2Y1cKnrzF8"
      }
    },
    {
      "cell_type": "markdown",
      "source": [
        "## **Tidiness Issues (at least 2):**"
      ],
      "metadata": {
        "id": "2fM9alOCr3tx"
      }
    },
    {
      "cell_type": "markdown",
      "source": [
        "# Tidiness Issue 1:\n",
        "*   Data split across two datasets (2015 & 2016) for a single observational unit (countries). Violates: \"Each type of observational unit forms a table\n",
        "##justification: We must merge these two datasets based on a common key (Country)\n",
        "\n",
        "# Tidiness Issue 2:\n",
        "\n",
        "\n",
        "*   Unnecessary columns (e.g., Standard Error, Lower/Upper Confidence Interval) in both datasets not needed for analysis\n",
        "##Justification: Extra columns not relevant to core analysis can reduce dataset readability and efficiency."
      ],
      "metadata": {
        "id": "n6JLFiDRr7lf"
      }
    },
    {
      "cell_type": "markdown",
      "source": [
        "# **Step 3: Clean Data**"
      ],
      "metadata": {
        "id": "Evr-oPdYtEoZ"
      }
    },
    {
      "cell_type": "markdown",
      "source": [
        "Make Copies Before Cleaning:"
      ],
      "metadata": {
        "id": "foP6H9wvtJ1b"
      }
    },
    {
      "cell_type": "code",
      "source": [
        "df_2015_clean = df_2015.copy()\n",
        "df_2016_clean = df_2016.copy()"
      ],
      "metadata": {
        "id": "eYcZXPTltMXb"
      },
      "execution_count": 39,
      "outputs": []
    },
    {
      "cell_type": "markdown",
      "source": [
        "**Cleaning Quality Issues:**"
      ],
      "metadata": {
        "id": "lQmGNZertT6t"
      }
    },
    {
      "cell_type": "markdown",
      "source": [
        "**Issue 1 (Duplicate Ranks):**\n",
        "Resolve by assigning unique ranks (e.g., averaging tied ranks)."
      ],
      "metadata": {
        "id": "q8ys1TsUtVSg"
      }
    },
    {
      "cell_type": "code",
      "source": [
        "df_2015_clean['Happiness Rank'] = df_2015_clean['Happiness Score'].rank(ascending=False, method='min')\n",
        "df_2015_clean['Happiness Rank'] = df_2015_clean['Happiness Rank'].astype(int)\n",
        "print(df_2015_clean[df_2015_clean['Country'].isin(['Jordan', 'Montenegro'])])"
      ],
      "metadata": {
        "colab": {
          "base_uri": "https://localhost:8080/"
        },
        "id": "-3ReqhvstfMw",
        "outputId": "a203c666-4b1d-4e1b-9f63-8006269da2aa"
      },
      "execution_count": 40,
      "outputs": [
        {
          "output_type": "stream",
          "name": "stdout",
          "text": [
            "       Country                           Region  Happiness Rank  \\\n",
            "81      Jordan  Middle East and Northern Africa              82   \n",
            "82  Montenegro       Central and Eastern Europe              82   \n",
            "\n",
            "    Happiness Score  Standard Error  Economy (GDP per Capita)   Family  \\\n",
            "81            5.192         0.04524                   0.90198  1.05392   \n",
            "82            5.192         0.05235                   0.97438  0.90557   \n",
            "\n",
            "    Health (Life Expectancy)  Freedom  Trust (Government Corruption)  \\\n",
            "81                   0.69639  0.40661                        0.14293   \n",
            "82                   0.72521  0.18260                        0.14296   \n",
            "\n",
            "    Generosity  Dystopia Residual  \n",
            "81     0.11053            1.87996  \n",
            "82     0.16140            2.10017  \n"
          ]
        }
      ]
    },
    {
      "cell_type": "markdown",
      "source": [
        "**Issue 2 (Zero Values):**\n",
        "Investigate zero values and replace with NaN for clarity."
      ],
      "metadata": {
        "id": "Bt6BU3bltn6k"
      }
    },
    {
      "cell_type": "code",
      "source": [
        "df_2015_clean[factors] = df_2015_clean[factors].replace(0, pd.NA)\n",
        "print(df_2015_clean.isna().sum())"
      ],
      "metadata": {
        "colab": {
          "base_uri": "https://localhost:8080/"
        },
        "id": "8oxi6heVtqPM",
        "outputId": "e5acceb2-2a60-4563-d7cb-844a4d5534f6"
      },
      "execution_count": 41,
      "outputs": [
        {
          "output_type": "stream",
          "name": "stdout",
          "text": [
            "Country                          0\n",
            "Region                           0\n",
            "Happiness Rank                   0\n",
            "Happiness Score                  0\n",
            "Standard Error                   0\n",
            "Economy (GDP per Capita)         1\n",
            "Family                           1\n",
            "Health (Life Expectancy)         1\n",
            "Freedom                          1\n",
            "Trust (Government Corruption)    1\n",
            "Generosity                       1\n",
            "Dystopia Residual                0\n",
            "dtype: int64\n"
          ]
        }
      ]
    },
    {
      "cell_type": "code",
      "source": [
        "# Identify and review affected rows (countries)\n",
        "missing_values_rows = df_2015_clean[df_2015_clean[factors].isna().any(axis=1)]\n",
        "print(missing_values_rows[['Country'] + factors])"
      ],
      "metadata": {
        "colab": {
          "base_uri": "https://localhost:8080/"
        },
        "id": "iDh5GLVyupSZ",
        "outputId": "1d140c3d-02a1-46f0-96bc-5aced15564e0"
      },
      "execution_count": 45,
      "outputs": [
        {
          "output_type": "stream",
          "name": "stdout",
          "text": [
            "                      Country Economy (GDP per Capita)   Family  \\\n",
            "73                  Indonesia                  0.82827  1.08708   \n",
            "101                    Greece                  1.15406  0.92933   \n",
            "111                      Iraq                  0.98549  0.81889   \n",
            "119          Congo (Kinshasa)                     <NA>   1.0012   \n",
            "122              Sierra Leone                  0.33024  0.95571   \n",
            "147  Central African Republic                   0.0785     <NA>   \n",
            "\n",
            "    Health (Life Expectancy)  Freedom Trust (Government Corruption) Generosity  \n",
            "73                   0.63793  0.46611                          <NA>    0.51535  \n",
            "101                  0.88213  0.07699                       0.01397       <NA>  \n",
            "111                  0.60237     <NA>                       0.13788    0.17922  \n",
            "119                  0.09806  0.22605                       0.07625    0.24834  \n",
            "122                     <NA>   0.4084                       0.08786    0.21488  \n",
            "147                  0.06699  0.48879                       0.08289    0.23835  \n"
          ]
        }
      ]
    },
    {
      "cell_type": "code",
      "source": [
        "# Fill missing values with regional mean\n",
        "for factor in factors:\n",
        "  df_2015_clean[factor] = df_2015_clean.groupby('Region')[factor].transform(\n",
        "  lambda x: x.fillna(x.mean())\n",
        "  )\n",
        "print(df_2015_clean.isna().sum())"
      ],
      "metadata": {
        "colab": {
          "base_uri": "https://localhost:8080/"
        },
        "id": "pgkuDGBZu1gS",
        "outputId": "ddc2719a-c7ba-47b9-ab31-eb118f8a2a9d"
      },
      "execution_count": 46,
      "outputs": [
        {
          "output_type": "stream",
          "name": "stdout",
          "text": [
            "Country                          0\n",
            "Region                           0\n",
            "Happiness Rank                   0\n",
            "Happiness Score                  0\n",
            "Standard Error                   0\n",
            "Economy (GDP per Capita)         0\n",
            "Family                           0\n",
            "Health (Life Expectancy)         0\n",
            "Freedom                          0\n",
            "Trust (Government Corruption)    0\n",
            "Generosity                       0\n",
            "Dystopia Residual                0\n",
            "dtype: int64\n"
          ]
        },
        {
          "output_type": "stream",
          "name": "stderr",
          "text": [
            "<ipython-input-46-cf268c7f1e1c>:4: FutureWarning: Downcasting object dtype arrays on .fillna, .ffill, .bfill is deprecated and will change in a future version. Call result.infer_objects(copy=False) instead. To opt-in to the future behavior, set `pd.set_option('future.no_silent_downcasting', True)`\n",
            "  lambda x: x.fillna(x.mean())\n",
            "<ipython-input-46-cf268c7f1e1c>:4: FutureWarning: Downcasting object dtype arrays on .fillna, .ffill, .bfill is deprecated and will change in a future version. Call result.infer_objects(copy=False) instead. To opt-in to the future behavior, set `pd.set_option('future.no_silent_downcasting', True)`\n",
            "  lambda x: x.fillna(x.mean())\n",
            "<ipython-input-46-cf268c7f1e1c>:4: FutureWarning: Downcasting object dtype arrays on .fillna, .ffill, .bfill is deprecated and will change in a future version. Call result.infer_objects(copy=False) instead. To opt-in to the future behavior, set `pd.set_option('future.no_silent_downcasting', True)`\n",
            "  lambda x: x.fillna(x.mean())\n",
            "<ipython-input-46-cf268c7f1e1c>:4: FutureWarning: Downcasting object dtype arrays on .fillna, .ffill, .bfill is deprecated and will change in a future version. Call result.infer_objects(copy=False) instead. To opt-in to the future behavior, set `pd.set_option('future.no_silent_downcasting', True)`\n",
            "  lambda x: x.fillna(x.mean())\n",
            "<ipython-input-46-cf268c7f1e1c>:4: FutureWarning: Downcasting object dtype arrays on .fillna, .ffill, .bfill is deprecated and will change in a future version. Call result.infer_objects(copy=False) instead. To opt-in to the future behavior, set `pd.set_option('future.no_silent_downcasting', True)`\n",
            "  lambda x: x.fillna(x.mean())\n",
            "<ipython-input-46-cf268c7f1e1c>:4: FutureWarning: Downcasting object dtype arrays on .fillna, .ffill, .bfill is deprecated and will change in a future version. Call result.infer_objects(copy=False) instead. To opt-in to the future behavior, set `pd.set_option('future.no_silent_downcasting', True)`\n",
            "  lambda x: x.fillna(x.mean())\n"
          ]
        }
      ]
    },
    {
      "cell_type": "code",
      "source": [
        "# Verify no more missing values exist after imputation\n",
        "print(df_2015_clean[factors].isna().sum())"
      ],
      "metadata": {
        "colab": {
          "base_uri": "https://localhost:8080/"
        },
        "id": "gbn30SKvvDar",
        "outputId": "30a358a3-0bef-4fb9-a505-b78771cdd108"
      },
      "execution_count": 47,
      "outputs": [
        {
          "output_type": "stream",
          "name": "stdout",
          "text": [
            "Economy (GDP per Capita)         0\n",
            "Family                           0\n",
            "Health (Life Expectancy)         0\n",
            "Freedom                          0\n",
            "Trust (Government Corruption)    0\n",
            "Generosity                       0\n",
            "dtype: int64\n"
          ]
        }
      ]
    },
    {
      "cell_type": "code",
      "source": [
        "# Identifying rows with missing values after replacing zeros\n",
        "missing_values_rows = df_2015_clean[df_2015_clean[factors].isna().any(axis=1)]\n",
        "print(\"Rows with missing values:\\n\", missing_values_rows[['Country'] + factors])\n",
        "\n",
        "# Impute missing values with regional mean for better accuracy\n",
        "for factor in factors:\n",
        "  df_2015_clean[factor] = df_2015_clean.groupby('Region')[factor].transform(\n",
        "  lambda x: x.fillna(x.mean())\n",
        "  )\n",
        "# Verify successful cleaning\n",
        "print(\"Verification after imputation:\\n\", df_2015_clean[factors].isna().sum())\n"
      ],
      "metadata": {
        "colab": {
          "base_uri": "https://localhost:8080/"
        },
        "id": "FMuBLeP2vOut",
        "outputId": "915e0ebb-18ce-4973-d88b-f7158ece8f59"
      },
      "execution_count": 48,
      "outputs": [
        {
          "output_type": "stream",
          "name": "stdout",
          "text": [
            "Rows with missing values:\n",
            " Empty DataFrame\n",
            "Columns: [Country, Economy (GDP per Capita), Family, Health (Life Expectancy), Freedom, Trust (Government Corruption), Generosity]\n",
            "Index: []\n",
            "Verification after imputation:\n",
            " Economy (GDP per Capita)         0\n",
            "Family                           0\n",
            "Health (Life Expectancy)         0\n",
            "Freedom                          0\n",
            "Trust (Government Corruption)    0\n",
            "Generosity                       0\n",
            "dtype: int64\n"
          ]
        }
      ]
    },
    {
      "cell_type": "code",
      "source": [
        "df_2016_clean[factors] = df_2016_clean[factors].replace(0, pd.NA)\n",
        "print(df_2016_clean.isna().sum())"
      ],
      "metadata": {
        "colab": {
          "base_uri": "https://localhost:8080/"
        },
        "id": "4FJc_XFPt4sm",
        "outputId": "01c3d1a1-8e1b-4fde-8f0d-d3a09f7f6c64"
      },
      "execution_count": 42,
      "outputs": [
        {
          "output_type": "stream",
          "name": "stdout",
          "text": [
            "Country                          0\n",
            "Region                           0\n",
            "Happiness Rank                   0\n",
            "Happiness Score                  0\n",
            "Lower Confidence Interval        0\n",
            "Upper Confidence Interval        0\n",
            "Economy (GDP per Capita)         1\n",
            "Family                           1\n",
            "Health (Life Expectancy)         1\n",
            "Freedom                          1\n",
            "Trust (Government Corruption)    1\n",
            "Generosity                       1\n",
            "Dystopia Residual                0\n",
            "dtype: int64\n"
          ]
        }
      ]
    },
    {
      "cell_type": "code",
      "source": [
        "#  Identify and review affected rows (countries)\n",
        "missing_values_rows = df_2016_clean[df_2016_clean[factors].isna().any(axis=1)]\n",
        "print(missing_values_rows[['Country'] + factors])"
      ],
      "metadata": {
        "colab": {
          "base_uri": "https://localhost:8080/"
        },
        "id": "LVkk-7LJvmZo",
        "outputId": "5a16f609-89ab-4fc9-dbd1-7388b622c216"
      },
      "execution_count": 49,
      "outputs": [
        {
          "output_type": "stream",
          "name": "stdout",
          "text": [
            "                    Country Economy (GDP per Capita)   Family  \\\n",
            "75                  Somalia                     <NA>  0.33613   \n",
            "86   Bosnia and Herzegovina                  0.93383  0.64367   \n",
            "98                   Greece                  1.24886  0.75473   \n",
            "110            Sierra Leone                  0.36485    0.628   \n",
            "132                   Sudan                  0.63069  0.81928   \n",
            "154                    Togo                  0.28123     <NA>   \n",
            "\n",
            "    Health (Life Expectancy)  Freedom Trust (Government Corruption) Generosity  \n",
            "75                   0.11466  0.56778                        0.3118    0.27225  \n",
            "86                   0.70766  0.09511                          <NA>    0.29889  \n",
            "98                   0.80029  0.05822                       0.04127       <NA>  \n",
            "110                     <NA>  0.30685                       0.08196    0.23897  \n",
            "132                  0.29759     <NA>                       0.10039    0.18077  \n",
            "154                  0.24811  0.34678                       0.11587    0.17517  \n"
          ]
        }
      ]
    },
    {
      "cell_type": "code",
      "source": [
        "# Fill missing values with regional mean\n",
        "for factor in factors:\n",
        "  df_2016_clean[factor] = df_2016_clean.groupby('Region')[factor].transform(\n",
        "    lambda x: x.fillna(x.mean())\n",
        "    )\n",
        "print(df_2016_clean.isna().sum())"
      ],
      "metadata": {
        "colab": {
          "base_uri": "https://localhost:8080/"
        },
        "id": "EcJCDH63vy5O",
        "outputId": "06dc0f4e-2364-41df-f387-6eadf3acff84"
      },
      "execution_count": 54,
      "outputs": [
        {
          "output_type": "stream",
          "name": "stdout",
          "text": [
            "Country                          0\n",
            "Region                           0\n",
            "Happiness Rank                   0\n",
            "Happiness Score                  0\n",
            "Lower Confidence Interval        0\n",
            "Upper Confidence Interval        0\n",
            "Economy (GDP per Capita)         0\n",
            "Family                           0\n",
            "Health (Life Expectancy)         0\n",
            "Freedom                          0\n",
            "Trust (Government Corruption)    0\n",
            "Generosity                       0\n",
            "Dystopia Residual                0\n",
            "dtype: int64\n"
          ]
        }
      ]
    },
    {
      "cell_type": "code",
      "source": [
        "# Verify no more missing values exist after imputation\n",
        "print(df_2015_clean[factors].isna().sum())"
      ],
      "metadata": {
        "colab": {
          "base_uri": "https://localhost:8080/"
        },
        "id": "OsIx9Lh4wgbC",
        "outputId": "85a8fa23-c953-4613-e931-fe4d157ab22c"
      },
      "execution_count": 55,
      "outputs": [
        {
          "output_type": "stream",
          "name": "stdout",
          "text": [
            "Economy (GDP per Capita)         0\n",
            "Family                           0\n",
            "Health (Life Expectancy)         0\n",
            "Freedom                          0\n",
            "Trust (Government Corruption)    0\n",
            "Generosity                       0\n",
            "dtype: int64\n"
          ]
        }
      ]
    },
    {
      "cell_type": "code",
      "source": [
        "# Identifying rows with missing values after replacing zeros\n",
        "missing_values_rows = df_2016_clean[df_2016_clean[factors].isna().any(axis=1)]\n",
        "print(\"Rows with missing values:\\n\", missing_values_rows[['Country'] + factors])\n",
        "\n",
        "# Impute missing values with regional mean for better accuracy\n",
        "for factor in factors:\n",
        "  df_2016_clean[factor] = df_2016_clean.groupby('Region')[factor].transform(\n",
        "    lambda x: x.fillna(x.mean())\n",
        "      )\n",
        "# Verify successful cleaning\n",
        "print(\"Verification after imputation:\\n\", df_2016_clean[factors].isna().sum())\n"
      ],
      "metadata": {
        "colab": {
          "base_uri": "https://localhost:8080/"
        },
        "id": "MTP6c2u4wqOh",
        "outputId": "62c6da5e-5830-495e-a797-d1aee074da11"
      },
      "execution_count": 56,
      "outputs": [
        {
          "output_type": "stream",
          "name": "stdout",
          "text": [
            "Rows with missing values:\n",
            " Empty DataFrame\n",
            "Columns: [Country, Economy (GDP per Capita), Family, Health (Life Expectancy), Freedom, Trust (Government Corruption), Generosity]\n",
            "Index: []\n",
            "Verification after imputation:\n",
            " Economy (GDP per Capita)         0\n",
            "Family                           0\n",
            "Health (Life Expectancy)         0\n",
            "Freedom                          0\n",
            "Trust (Government Corruption)    0\n",
            "Generosity                       0\n",
            "dtype: int64\n"
          ]
        }
      ]
    },
    {
      "cell_type": "markdown",
      "source": [
        "**Cleaning Tidiness Issues:**\n",
        "*   Tidiness Issue 1 (Merging Datasets):\n",
        "Merge 2015 & 2016 datasets into a single dataframe with a year identifier."
      ],
      "metadata": {
        "id": "NY5LFbOExHVZ"
      }
    },
    {
      "cell_type": "code",
      "source": [
        "df_2015_clean['Year'] = 2015\n",
        "df_2016_clean['Year'] = 2016\n",
        "\n",
        "combined_df = pd.concat([df_2015_clean, df_2016_clean], ignore_index=True)\n",
        "print(combined_df.head())\n",
        "print(combined_df.shape)\n"
      ],
      "metadata": {
        "colab": {
          "base_uri": "https://localhost:8080/"
        },
        "id": "Zr0ZQnsxxRyc",
        "outputId": "01167bbb-a7df-4490-f191-65c277f26566"
      },
      "execution_count": 57,
      "outputs": [
        {
          "output_type": "stream",
          "name": "stdout",
          "text": [
            "       Country          Region  Happiness Rank  Happiness Score  \\\n",
            "0  Switzerland  Western Europe               1            7.587   \n",
            "1      Iceland  Western Europe               2            7.561   \n",
            "2      Denmark  Western Europe               3            7.527   \n",
            "3       Norway  Western Europe               4            7.522   \n",
            "4       Canada   North America               5            7.427   \n",
            "\n",
            "   Standard Error  Economy (GDP per Capita)   Family  \\\n",
            "0         0.03411                   1.39651  1.34951   \n",
            "1         0.04884                   1.30232  1.40223   \n",
            "2         0.03328                   1.32548  1.36058   \n",
            "3         0.03880                   1.45900  1.33095   \n",
            "4         0.03553                   1.32629  1.32261   \n",
            "\n",
            "   Health (Life Expectancy)  Freedom  Trust (Government Corruption)  \\\n",
            "0                   0.94143  0.66557                        0.41978   \n",
            "1                   0.94784  0.62877                        0.14145   \n",
            "2                   0.87464  0.64938                        0.48357   \n",
            "3                   0.88521  0.66973                        0.36503   \n",
            "4                   0.90563  0.63297                        0.32957   \n",
            "\n",
            "   Generosity  Dystopia Residual  Year  Lower Confidence Interval  \\\n",
            "0     0.29678            2.51738  2015                        NaN   \n",
            "1     0.43630            2.70201  2015                        NaN   \n",
            "2     0.34139            2.49204  2015                        NaN   \n",
            "3     0.34699            2.46531  2015                        NaN   \n",
            "4     0.45811            2.45176  2015                        NaN   \n",
            "\n",
            "   Upper Confidence Interval  \n",
            "0                        NaN  \n",
            "1                        NaN  \n",
            "2                        NaN  \n",
            "3                        NaN  \n",
            "4                        NaN  \n",
            "(315, 15)\n"
          ]
        }
      ]
    },
    {
      "cell_type": "markdown",
      "source": [
        "**Tidiness Issue 2**: (Removing Unnecessary Columns):"
      ],
      "metadata": {
        "id": "fzJ4vsZexdAV"
      }
    },
    {
      "cell_type": "code",
      "source": [
        "combined_df.drop(['Standard Error', 'Lower Confidence Interval', 'Upper Confidence Interval'],\n",
        "                 axis=1, inplace=True, errors='ignore')\n",
        "print(combined_df.columns)"
      ],
      "metadata": {
        "colab": {
          "base_uri": "https://localhost:8080/"
        },
        "id": "K2XqpzktxgKZ",
        "outputId": "90d6e90f-8ac5-42e7-8ff5-c99169a5de04"
      },
      "execution_count": 58,
      "outputs": [
        {
          "output_type": "stream",
          "name": "stdout",
          "text": [
            "Index(['Country', 'Region', 'Happiness Rank', 'Happiness Score',\n",
            "       'Economy (GDP per Capita)', 'Family', 'Health (Life Expectancy)',\n",
            "       'Freedom', 'Trust (Government Corruption)', 'Generosity',\n",
            "       'Dystopia Residual', 'Year'],\n",
            "      dtype='object')\n"
          ]
        }
      ]
    },
    {
      "cell_type": "code",
      "source": [
        "# Rename columns to be consistent and clear\n",
        "combined_df.rename(columns={\n",
        " 'Economy': 'economy',\n",
        " 'Region': 'region',\n",
        " 'Happiness Rank': 'happiness_rankder',\n",
        " 'Happiness Score': 'happiness_score',\n",
        " 'Economy (GDP per Capita)': 'economy',\n",
        " 'Family': 'family',\n",
        " 'Health (Life Expectancy)': 'health',\n",
        " 'Trust (Government Corruption)': 'trust',\n",
        " 'Generosity': 'generosity',\n",
        " 'Dystopia Residual': 'dystopia_residual',\n",
        " 'Year': 'year'\n",
        "}, inplace=True)\n",
        "\n",
        "# Confirm changes\n",
        "print(combined_df.columns)"
      ],
      "metadata": {
        "colab": {
          "base_uri": "https://localhost:8080/"
        },
        "id": "WyNTjZQFyeNb",
        "outputId": "82777545-247a-4f2a-9de4-f8e0aff911f3"
      },
      "execution_count": 59,
      "outputs": [
        {
          "output_type": "stream",
          "name": "stdout",
          "text": [
            "Index(['Country', 'region', 'happiness_rankder', 'happiness_score', 'economy',\n",
            "       'family', 'health', 'Freedom', 'trust', 'generosity',\n",
            "       'dystopia_residual', 'year'],\n",
            "      dtype='object')\n"
          ]
        }
      ]
    },
    {
      "cell_type": "code",
      "source": [
        "combined_df.head()"
      ],
      "metadata": {
        "colab": {
          "base_uri": "https://localhost:8080/",
          "height": 206
        },
        "id": "2artTUdb0Qcu",
        "outputId": "f2284635-275e-49c8-9618-3375e58e7ea1"
      },
      "execution_count": 60,
      "outputs": [
        {
          "output_type": "execute_result",
          "data": {
            "text/plain": [
              "       Country          region  happiness_rankder  happiness_score  economy  \\\n",
              "0  Switzerland  Western Europe                  1            7.587  1.39651   \n",
              "1      Iceland  Western Europe                  2            7.561  1.30232   \n",
              "2      Denmark  Western Europe                  3            7.527  1.32548   \n",
              "3       Norway  Western Europe                  4            7.522  1.45900   \n",
              "4       Canada   North America                  5            7.427  1.32629   \n",
              "\n",
              "    family   health  Freedom    trust  generosity  dystopia_residual  year  \n",
              "0  1.34951  0.94143  0.66557  0.41978     0.29678            2.51738  2015  \n",
              "1  1.40223  0.94784  0.62877  0.14145     0.43630            2.70201  2015  \n",
              "2  1.36058  0.87464  0.64938  0.48357     0.34139            2.49204  2015  \n",
              "3  1.33095  0.88521  0.66973  0.36503     0.34699            2.46531  2015  \n",
              "4  1.32261  0.90563  0.63297  0.32957     0.45811            2.45176  2015  "
            ],
            "text/html": [
              "\n",
              "  <div id=\"df-3c638c5e-0a97-4700-9953-a7b7aeefa17b\" class=\"colab-df-container\">\n",
              "    <div>\n",
              "<style scoped>\n",
              "    .dataframe tbody tr th:only-of-type {\n",
              "        vertical-align: middle;\n",
              "    }\n",
              "\n",
              "    .dataframe tbody tr th {\n",
              "        vertical-align: top;\n",
              "    }\n",
              "\n",
              "    .dataframe thead th {\n",
              "        text-align: right;\n",
              "    }\n",
              "</style>\n",
              "<table border=\"1\" class=\"dataframe\">\n",
              "  <thead>\n",
              "    <tr style=\"text-align: right;\">\n",
              "      <th></th>\n",
              "      <th>Country</th>\n",
              "      <th>region</th>\n",
              "      <th>happiness_rankder</th>\n",
              "      <th>happiness_score</th>\n",
              "      <th>economy</th>\n",
              "      <th>family</th>\n",
              "      <th>health</th>\n",
              "      <th>Freedom</th>\n",
              "      <th>trust</th>\n",
              "      <th>generosity</th>\n",
              "      <th>dystopia_residual</th>\n",
              "      <th>year</th>\n",
              "    </tr>\n",
              "  </thead>\n",
              "  <tbody>\n",
              "    <tr>\n",
              "      <th>0</th>\n",
              "      <td>Switzerland</td>\n",
              "      <td>Western Europe</td>\n",
              "      <td>1</td>\n",
              "      <td>7.587</td>\n",
              "      <td>1.39651</td>\n",
              "      <td>1.34951</td>\n",
              "      <td>0.94143</td>\n",
              "      <td>0.66557</td>\n",
              "      <td>0.41978</td>\n",
              "      <td>0.29678</td>\n",
              "      <td>2.51738</td>\n",
              "      <td>2015</td>\n",
              "    </tr>\n",
              "    <tr>\n",
              "      <th>1</th>\n",
              "      <td>Iceland</td>\n",
              "      <td>Western Europe</td>\n",
              "      <td>2</td>\n",
              "      <td>7.561</td>\n",
              "      <td>1.30232</td>\n",
              "      <td>1.40223</td>\n",
              "      <td>0.94784</td>\n",
              "      <td>0.62877</td>\n",
              "      <td>0.14145</td>\n",
              "      <td>0.43630</td>\n",
              "      <td>2.70201</td>\n",
              "      <td>2015</td>\n",
              "    </tr>\n",
              "    <tr>\n",
              "      <th>2</th>\n",
              "      <td>Denmark</td>\n",
              "      <td>Western Europe</td>\n",
              "      <td>3</td>\n",
              "      <td>7.527</td>\n",
              "      <td>1.32548</td>\n",
              "      <td>1.36058</td>\n",
              "      <td>0.87464</td>\n",
              "      <td>0.64938</td>\n",
              "      <td>0.48357</td>\n",
              "      <td>0.34139</td>\n",
              "      <td>2.49204</td>\n",
              "      <td>2015</td>\n",
              "    </tr>\n",
              "    <tr>\n",
              "      <th>3</th>\n",
              "      <td>Norway</td>\n",
              "      <td>Western Europe</td>\n",
              "      <td>4</td>\n",
              "      <td>7.522</td>\n",
              "      <td>1.45900</td>\n",
              "      <td>1.33095</td>\n",
              "      <td>0.88521</td>\n",
              "      <td>0.66973</td>\n",
              "      <td>0.36503</td>\n",
              "      <td>0.34699</td>\n",
              "      <td>2.46531</td>\n",
              "      <td>2015</td>\n",
              "    </tr>\n",
              "    <tr>\n",
              "      <th>4</th>\n",
              "      <td>Canada</td>\n",
              "      <td>North America</td>\n",
              "      <td>5</td>\n",
              "      <td>7.427</td>\n",
              "      <td>1.32629</td>\n",
              "      <td>1.32261</td>\n",
              "      <td>0.90563</td>\n",
              "      <td>0.63297</td>\n",
              "      <td>0.32957</td>\n",
              "      <td>0.45811</td>\n",
              "      <td>2.45176</td>\n",
              "      <td>2015</td>\n",
              "    </tr>\n",
              "  </tbody>\n",
              "</table>\n",
              "</div>\n",
              "    <div class=\"colab-df-buttons\">\n",
              "\n",
              "  <div class=\"colab-df-container\">\n",
              "    <button class=\"colab-df-convert\" onclick=\"convertToInteractive('df-3c638c5e-0a97-4700-9953-a7b7aeefa17b')\"\n",
              "            title=\"Convert this dataframe to an interactive table.\"\n",
              "            style=\"display:none;\">\n",
              "\n",
              "  <svg xmlns=\"http://www.w3.org/2000/svg\" height=\"24px\" viewBox=\"0 -960 960 960\">\n",
              "    <path d=\"M120-120v-720h720v720H120Zm60-500h600v-160H180v160Zm220 220h160v-160H400v160Zm0 220h160v-160H400v160ZM180-400h160v-160H180v160Zm440 0h160v-160H620v160ZM180-180h160v-160H180v160Zm440 0h160v-160H620v160Z\"/>\n",
              "  </svg>\n",
              "    </button>\n",
              "\n",
              "  <style>\n",
              "    .colab-df-container {\n",
              "      display:flex;\n",
              "      gap: 12px;\n",
              "    }\n",
              "\n",
              "    .colab-df-convert {\n",
              "      background-color: #E8F0FE;\n",
              "      border: none;\n",
              "      border-radius: 50%;\n",
              "      cursor: pointer;\n",
              "      display: none;\n",
              "      fill: #1967D2;\n",
              "      height: 32px;\n",
              "      padding: 0 0 0 0;\n",
              "      width: 32px;\n",
              "    }\n",
              "\n",
              "    .colab-df-convert:hover {\n",
              "      background-color: #E2EBFA;\n",
              "      box-shadow: 0px 1px 2px rgba(60, 64, 67, 0.3), 0px 1px 3px 1px rgba(60, 64, 67, 0.15);\n",
              "      fill: #174EA6;\n",
              "    }\n",
              "\n",
              "    .colab-df-buttons div {\n",
              "      margin-bottom: 4px;\n",
              "    }\n",
              "\n",
              "    [theme=dark] .colab-df-convert {\n",
              "      background-color: #3B4455;\n",
              "      fill: #D2E3FC;\n",
              "    }\n",
              "\n",
              "    [theme=dark] .colab-df-convert:hover {\n",
              "      background-color: #434B5C;\n",
              "      box-shadow: 0px 1px 3px 1px rgba(0, 0, 0, 0.15);\n",
              "      filter: drop-shadow(0px 1px 2px rgba(0, 0, 0, 0.3));\n",
              "      fill: #FFFFFF;\n",
              "    }\n",
              "  </style>\n",
              "\n",
              "    <script>\n",
              "      const buttonEl =\n",
              "        document.querySelector('#df-3c638c5e-0a97-4700-9953-a7b7aeefa17b button.colab-df-convert');\n",
              "      buttonEl.style.display =\n",
              "        google.colab.kernel.accessAllowed ? 'block' : 'none';\n",
              "\n",
              "      async function convertToInteractive(key) {\n",
              "        const element = document.querySelector('#df-3c638c5e-0a97-4700-9953-a7b7aeefa17b');\n",
              "        const dataTable =\n",
              "          await google.colab.kernel.invokeFunction('convertToInteractive',\n",
              "                                                    [key], {});\n",
              "        if (!dataTable) return;\n",
              "\n",
              "        const docLinkHtml = 'Like what you see? Visit the ' +\n",
              "          '<a target=\"_blank\" href=https://colab.research.google.com/notebooks/data_table.ipynb>data table notebook</a>'\n",
              "          + ' to learn more about interactive tables.';\n",
              "        element.innerHTML = '';\n",
              "        dataTable['output_type'] = 'display_data';\n",
              "        await google.colab.output.renderOutput(dataTable, element);\n",
              "        const docLink = document.createElement('div');\n",
              "        docLink.innerHTML = docLinkHtml;\n",
              "        element.appendChild(docLink);\n",
              "      }\n",
              "    </script>\n",
              "  </div>\n",
              "\n",
              "\n",
              "<div id=\"df-01f075cb-4f9e-4d90-985e-c77ebd2ab0c4\">\n",
              "  <button class=\"colab-df-quickchart\" onclick=\"quickchart('df-01f075cb-4f9e-4d90-985e-c77ebd2ab0c4')\"\n",
              "            title=\"Suggest charts\"\n",
              "            style=\"display:none;\">\n",
              "\n",
              "<svg xmlns=\"http://www.w3.org/2000/svg\" height=\"24px\"viewBox=\"0 0 24 24\"\n",
              "     width=\"24px\">\n",
              "    <g>\n",
              "        <path d=\"M19 3H5c-1.1 0-2 .9-2 2v14c0 1.1.9 2 2 2h14c1.1 0 2-.9 2-2V5c0-1.1-.9-2-2-2zM9 17H7v-7h2v7zm4 0h-2V7h2v10zm4 0h-2v-4h2v4z\"/>\n",
              "    </g>\n",
              "</svg>\n",
              "  </button>\n",
              "\n",
              "<style>\n",
              "  .colab-df-quickchart {\n",
              "      --bg-color: #E8F0FE;\n",
              "      --fill-color: #1967D2;\n",
              "      --hover-bg-color: #E2EBFA;\n",
              "      --hover-fill-color: #174EA6;\n",
              "      --disabled-fill-color: #AAA;\n",
              "      --disabled-bg-color: #DDD;\n",
              "  }\n",
              "\n",
              "  [theme=dark] .colab-df-quickchart {\n",
              "      --bg-color: #3B4455;\n",
              "      --fill-color: #D2E3FC;\n",
              "      --hover-bg-color: #434B5C;\n",
              "      --hover-fill-color: #FFFFFF;\n",
              "      --disabled-bg-color: #3B4455;\n",
              "      --disabled-fill-color: #666;\n",
              "  }\n",
              "\n",
              "  .colab-df-quickchart {\n",
              "    background-color: var(--bg-color);\n",
              "    border: none;\n",
              "    border-radius: 50%;\n",
              "    cursor: pointer;\n",
              "    display: none;\n",
              "    fill: var(--fill-color);\n",
              "    height: 32px;\n",
              "    padding: 0;\n",
              "    width: 32px;\n",
              "  }\n",
              "\n",
              "  .colab-df-quickchart:hover {\n",
              "    background-color: var(--hover-bg-color);\n",
              "    box-shadow: 0 1px 2px rgba(60, 64, 67, 0.3), 0 1px 3px 1px rgba(60, 64, 67, 0.15);\n",
              "    fill: var(--button-hover-fill-color);\n",
              "  }\n",
              "\n",
              "  .colab-df-quickchart-complete:disabled,\n",
              "  .colab-df-quickchart-complete:disabled:hover {\n",
              "    background-color: var(--disabled-bg-color);\n",
              "    fill: var(--disabled-fill-color);\n",
              "    box-shadow: none;\n",
              "  }\n",
              "\n",
              "  .colab-df-spinner {\n",
              "    border: 2px solid var(--fill-color);\n",
              "    border-color: transparent;\n",
              "    border-bottom-color: var(--fill-color);\n",
              "    animation:\n",
              "      spin 1s steps(1) infinite;\n",
              "  }\n",
              "\n",
              "  @keyframes spin {\n",
              "    0% {\n",
              "      border-color: transparent;\n",
              "      border-bottom-color: var(--fill-color);\n",
              "      border-left-color: var(--fill-color);\n",
              "    }\n",
              "    20% {\n",
              "      border-color: transparent;\n",
              "      border-left-color: var(--fill-color);\n",
              "      border-top-color: var(--fill-color);\n",
              "    }\n",
              "    30% {\n",
              "      border-color: transparent;\n",
              "      border-left-color: var(--fill-color);\n",
              "      border-top-color: var(--fill-color);\n",
              "      border-right-color: var(--fill-color);\n",
              "    }\n",
              "    40% {\n",
              "      border-color: transparent;\n",
              "      border-right-color: var(--fill-color);\n",
              "      border-top-color: var(--fill-color);\n",
              "    }\n",
              "    60% {\n",
              "      border-color: transparent;\n",
              "      border-right-color: var(--fill-color);\n",
              "    }\n",
              "    80% {\n",
              "      border-color: transparent;\n",
              "      border-right-color: var(--fill-color);\n",
              "      border-bottom-color: var(--fill-color);\n",
              "    }\n",
              "    90% {\n",
              "      border-color: transparent;\n",
              "      border-bottom-color: var(--fill-color);\n",
              "    }\n",
              "  }\n",
              "</style>\n",
              "\n",
              "  <script>\n",
              "    async function quickchart(key) {\n",
              "      const quickchartButtonEl =\n",
              "        document.querySelector('#' + key + ' button');\n",
              "      quickchartButtonEl.disabled = true;  // To prevent multiple clicks.\n",
              "      quickchartButtonEl.classList.add('colab-df-spinner');\n",
              "      try {\n",
              "        const charts = await google.colab.kernel.invokeFunction(\n",
              "            'suggestCharts', [key], {});\n",
              "      } catch (error) {\n",
              "        console.error('Error during call to suggestCharts:', error);\n",
              "      }\n",
              "      quickchartButtonEl.classList.remove('colab-df-spinner');\n",
              "      quickchartButtonEl.classList.add('colab-df-quickchart-complete');\n",
              "    }\n",
              "    (() => {\n",
              "      let quickchartButtonEl =\n",
              "        document.querySelector('#df-01f075cb-4f9e-4d90-985e-c77ebd2ab0c4 button');\n",
              "      quickchartButtonEl.style.display =\n",
              "        google.colab.kernel.accessAllowed ? 'block' : 'none';\n",
              "    })();\n",
              "  </script>\n",
              "</div>\n",
              "\n",
              "    </div>\n",
              "  </div>\n"
            ],
            "application/vnd.google.colaboratory.intrinsic+json": {
              "type": "dataframe",
              "variable_name": "combined_df",
              "summary": "{\n  \"name\": \"combined_df\",\n  \"rows\": 315,\n  \"fields\": [\n    {\n      \"column\": \"Country\",\n      \"properties\": {\n        \"dtype\": \"string\",\n        \"num_unique_values\": 164,\n        \"samples\": [\n          \"Yemen\",\n          \"Liberia\",\n          \"Sri Lanka\"\n        ],\n        \"semantic_type\": \"\",\n        \"description\": \"\"\n      }\n    },\n    {\n      \"column\": \"region\",\n      \"properties\": {\n        \"dtype\": \"category\",\n        \"num_unique_values\": 10,\n        \"samples\": [\n          \"Sub-Saharan Africa\",\n          \"North America\",\n          \"Southeastern Asia\"\n        ],\n        \"semantic_type\": \"\",\n        \"description\": \"\"\n      }\n    },\n    {\n      \"column\": \"happiness_rankder\",\n      \"properties\": {\n        \"dtype\": \"number\",\n        \"std\": 45,\n        \"min\": 1,\n        \"max\": 158,\n        \"num_unique_values\": 158,\n        \"samples\": [\n          130,\n          46,\n          136\n        ],\n        \"semantic_type\": \"\",\n        \"description\": \"\"\n      }\n    },\n    {\n      \"column\": \"happiness_score\",\n      \"properties\": {\n        \"dtype\": \"number\",\n        \"std\": 1.1415308739868983,\n        \"min\": 2.839,\n        \"max\": 7.587,\n        \"num_unique_values\": 299,\n        \"samples\": [\n          3.974,\n          4.362,\n          7.334\n        ],\n        \"semantic_type\": \"\",\n        \"description\": \"\"\n      }\n    },\n    {\n      \"column\": \"economy\",\n      \"properties\": {\n        \"dtype\": \"number\",\n        \"std\": 0.40613320396685265,\n        \"min\": 0.0153,\n        \"max\": 1.82427,\n        \"num_unique_values\": 314,\n        \"samples\": [\n          0.4225,\n          0.9669,\n          1.14372\n        ],\n        \"semantic_type\": \"\",\n        \"description\": \"\"\n      }\n    },\n    {\n      \"column\": \"family\",\n      \"properties\": {\n        \"dtype\": \"number\",\n        \"std\": 0.2781695228429257,\n        \"min\": 0.10419,\n        \"max\": 1.40223,\n        \"num_unique_values\": 315,\n        \"samples\": [\n          1.1681,\n          1.26504,\n          1.0961\n        ],\n        \"semantic_type\": \"\",\n        \"description\": \"\"\n      }\n    },\n    {\n      \"column\": \"health\",\n      \"properties\": {\n        \"dtype\": \"number\",\n        \"std\": 0.23750716424906898,\n        \"min\": 0.03824,\n        \"max\": 1.02525,\n        \"num_unique_values\": 313,\n        \"samples\": [\n          0.96538,\n          0.93156,\n          0.85102\n        ],\n        \"semantic_type\": \"\",\n        \"description\": \"\"\n      }\n    },\n    {\n      \"column\": \"Freedom\",\n      \"properties\": {\n        \"dtype\": \"number\",\n        \"std\": 0.1473141328930145,\n        \"min\": 0.00589,\n        \"max\": 0.66973,\n        \"num_unique_values\": 309,\n        \"samples\": [\n          0.44089,\n          0.65124,\n          0.41496\n        ],\n        \"semantic_type\": \"\",\n        \"description\": \"\"\n      }\n    },\n    {\n      \"column\": \"trust\",\n      \"properties\": {\n        \"dtype\": \"number\",\n        \"std\": 0.11498707221536324,\n        \"min\": 0.00227,\n        \"max\": 0.55191,\n        \"num_unique_values\": 313,\n        \"samples\": [\n          0.1809,\n          0.35637,\n          0.02556\n        ],\n        \"semantic_type\": \"\",\n        \"description\": \"\"\n      }\n    },\n    {\n      \"column\": \"generosity\",\n      \"properties\": {\n        \"dtype\": \"number\",\n        \"std\": 0.1287965006576414,\n        \"min\": 0.00199,\n        \"max\": 0.81971,\n        \"num_unique_values\": 315,\n        \"samples\": [\n          0.34326,\n          0.5763,\n          0.44834\n        ],\n        \"semantic_type\": \"\",\n        \"description\": \"\"\n      }\n    },\n    {\n      \"column\": \"dystopia_residual\",\n      \"properties\": {\n        \"dtype\": \"number\",\n        \"std\": 0.5587283855557315,\n        \"min\": 0.32858,\n        \"max\": 3.83772,\n        \"num_unique_values\": 315,\n        \"samples\": [\n          2.34638,\n          2.31945,\n          2.70485\n        ],\n        \"semantic_type\": \"\",\n        \"description\": \"\"\n      }\n    },\n    {\n      \"column\": \"year\",\n      \"properties\": {\n        \"dtype\": \"number\",\n        \"std\": 0,\n        \"min\": 2015,\n        \"max\": 2016,\n        \"num_unique_values\": 2,\n        \"samples\": [\n          2016,\n          2015\n        ],\n        \"semantic_type\": \"\",\n        \"description\": \"\"\n      }\n    }\n  ]\n}"
            }
          },
          "metadata": {},
          "execution_count": 60
        }
      ]
    },
    {
      "cell_type": "code",
      "source": [
        "combined_df.info()"
      ],
      "metadata": {
        "colab": {
          "base_uri": "https://localhost:8080/"
        },
        "id": "vCEsLSY30XRj",
        "outputId": "92d58fad-5417-4b6b-f7a5-b8f6b4a04713"
      },
      "execution_count": 61,
      "outputs": [
        {
          "output_type": "stream",
          "name": "stdout",
          "text": [
            "<class 'pandas.core.frame.DataFrame'>\n",
            "RangeIndex: 315 entries, 0 to 314\n",
            "Data columns (total 12 columns):\n",
            " #   Column             Non-Null Count  Dtype  \n",
            "---  ------             --------------  -----  \n",
            " 0   Country            315 non-null    object \n",
            " 1   region             315 non-null    object \n",
            " 2   happiness_rankder  315 non-null    int64  \n",
            " 3   happiness_score    315 non-null    float64\n",
            " 4   economy            315 non-null    float64\n",
            " 5   family             315 non-null    float64\n",
            " 6   health             315 non-null    float64\n",
            " 7   Freedom            315 non-null    float64\n",
            " 8   trust              315 non-null    float64\n",
            " 9   generosity         315 non-null    float64\n",
            " 10  dystopia_residual  315 non-null    float64\n",
            " 11  year               315 non-null    int64  \n",
            "dtypes: float64(8), int64(2), object(2)\n",
            "memory usage: 29.7+ KB\n"
          ]
        }
      ]
    },
    {
      "cell_type": "markdown",
      "source": [
        "# **Step 4: Update Data Storage**\n",
        "Maintain clear file names for datasets:"
      ],
      "metadata": {
        "id": "N6nOzJlz0p3q"
      }
    },
    {
      "cell_type": "code",
      "source": [
        "combined_df.to_csv('cleaned_happiness_data.csv', index=False)\n",
        "df_2015.to_csv('raw_2015_data.csv', index=False)\n",
        "df_2016.to_csv('raw_2016_data.csv', index=False)"
      ],
      "metadata": {
        "id": "i_5RbYAM0ryr"
      },
      "execution_count": 62,
      "outputs": []
    },
    {
      "cell_type": "markdown",
      "source": [
        "# **Step 5: Answer the Research Question**\n",
        "##Research Question:\n",
        "\"What factors (GDP, Family, Health, Freedom, Trust, Generosity) were most strongly associated with the change in happiness scores between 2015 and 2016?"
      ],
      "metadata": {
        "id": "9qFysBwl02ko"
      }
    },
    {
      "cell_type": "markdown",
      "source": [
        "**Visualization 1: Correlation Heatmap**"
      ],
      "metadata": {
        "id": "1_UIRjhv09tD"
      }
    },
    {
      "source": [
        "import seaborn as sns\n",
        "import matplotlib.pyplot as plt\n",
        "\n",
        "plt.figure(figsize=(10,7))\n",
        "# Updated to use 'trust' which was used in rename operations\n",
        "sns.heatmap(combined_df[['happiness_score','economy','family','health',\n",
        "                         'trust','generosity','dystopia_residual']].corr(), annot=True, cmap='coolwarm')\n",
        "plt.title('Correlation between Happiness Factors')\n",
        "plt.show()\n",
        "print(\"This heatmap illustrates which factors have the strongest correlation with happiness scores.\")"
      ],
      "cell_type": "code",
      "metadata": {
        "colab": {
          "base_uri": "https://localhost:8080/",
          "height": 746
        },
        "id": "IsXUG_6t1jsX",
        "outputId": "ebc6b605-8d77-4811-c094-794786249764"
      },
      "execution_count": 68,
      "outputs": [
        {
          "output_type": "display_data",
          "data": {
            "text/plain": [
              "<Figure size 1000x700 with 2 Axes>"
            ],
            "image/png": "[encoded data removed]"
          },
          "metadata": {}
        },
        {
          "output_type": "stream",
          "name": "stdout",
          "text": [
            "This heatmap illustrates which factors have the strongest correlation with happiness scores.\n"
          ]
        }
      ]
    },
    {
      "cell_type": "markdown",
      "source": [
        "**Visualization 2:** Happiness Score Change (2015 vs. 2016) per Region"
      ],
      "metadata": {
        "id": "Ie9npxTo13XU"
      }
    },
    {
      "cell_type": "code",
      "source": [
        "score_region = combined_df.pivot_table(values='happiness_score', index='region', columns='year')\n",
        "score_region['Change'] = score_region[2016] - score_region[2015]\n",
        "\n",
        "score_region['Change'].sort_values().plot(kind='barh', figsize=(10,8))\n",
        "plt.xlabel('Happiness Score Change')\n",
        "plt.title('Regional Change in Happiness Scores (2015 to 2016)')\n",
        "plt.show()\n",
        "print(\"This bar plot identifies regions with significant increases or decreases in happiness.\")"
      ],
      "metadata": {
        "colab": {
          "base_uri": "https://localhost:8080/",
          "height": 735
        },
        "id": "KPKV9ni316P_",
        "outputId": "0097b7ea-769c-492c-8ef0-bab5f125f391"
      },
      "execution_count": 72,
      "outputs": [
        {
          "output_type": "display_data",
          "data": {
            "text/plain": [
              "<Figure size 1000x800 with 1 Axes>"
            ],
            "image/png": "[encoded data removed]"
          },
          "metadata": {}
        },
        {
          "output_type": "stream",
          "name": "stdout",
          "text": [
            "This bar plot identifies regions with significant increases or decreases in happiness.\n"
          ]
        }
      ]
    },
    {
      "cell_type": "markdown",
      "source": [
        "# **Reflection**\n",
        "If I had more time and resources, I would further investigate the origin of the zero values in key contributing factors to determine whether they reflect actual conditions or data recording errors. This could involve cross-referencing with external socioeconomic sources. Additionally, I would extend the analysis by exploring country-specific trends in happiness score changes between 2015 and 2016, and experiment with building a regression model to evaluate which factors most strongly predict shifts in happiness across different regions."
      ],
      "metadata": {
        "id": "NwD_sP3-2z9P"
      }
    }
  ]
}